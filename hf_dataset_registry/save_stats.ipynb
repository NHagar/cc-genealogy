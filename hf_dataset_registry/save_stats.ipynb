{
 "cells": [
  {
   "cell_type": "code",
   "execution_count": 6,
   "id": "59fef6e6-78c2-43a8-8feb-5d8e119f6f60",
   "metadata": {},
   "outputs": [],
   "source": [
    "import pandas as pd\n",
    "import re\n",
    "\n",
    "# Read dataset URLs from CSV\n",
    "urls = pd.read_csv('datasets_all_criteria.csv')['url'].tolist()\n",
    "\n",
    "# Extract dataset info\n",
    "datasets = []\n",
    "for url in urls:\n",
    "    # Extract dataset ID (last two parts of the URL path)\n",
    "    match = re.search(r'datasets/([^/]+)/([^/]+)$', url)\n",
    "    if match:\n",
    "        creator = match.group(1)\n",
    "        title = match.group(2)\n",
    "        datasets.append({'url': url, 'creator': creator, 'title': title})\n",
    "\n",
    "# Save as markdown table\n",
    "with open('dataset_table.md', 'w') as f:\n",
    "    f.write('# Hugging Face Datasets\\n\\n')\n",
    "    f.write('| Dataset | Creator |\\n')\n",
    "    f.write('|---------|--------|\\n')\n",
    "    for dataset in datasets:\n",
    "        f.write(f\"| [{dataset['title']}]({dataset['url']}) | {dataset['creator']} |\\n\")"
   ]
  },
  {
   "cell_type": "code",
   "execution_count": null,
   "id": "1cfbf37b-57ef-4839-b1c3-ba51aafa513c",
   "metadata": {},
   "outputs": [],
   "source": []
  }
 ],
 "metadata": {
  "kernelspec": {
   "display_name": "Python 3 (ipykernel)",
   "language": "python",
   "name": "python3"
  },
  "language_info": {
   "codemirror_mode": {
    "name": "ipython",
    "version": 3
   },
   "file_extension": ".py",
   "mimetype": "text/x-python",
   "name": "python",
   "nbconvert_exporter": "python",
   "pygments_lexer": "ipython3",
   "version": "3.12.0"
  }
 },
 "nbformat": 4,
 "nbformat_minor": 5
}
