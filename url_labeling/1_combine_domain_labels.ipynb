{
 "cells": [
  {
   "cell_type": "code",
   "execution_count": 1,
   "id": "07778129-f2c0-41fc-83ef-89efa79e2efa",
   "metadata": {},
   "outputs": [
    {
     "name": "stdout",
     "output_type": "stream",
     "text": [
      "Loaded datasets in 0.335065 seconds\n"
     ]
    }
   ],
   "source": [
    "import time\n",
    "import pandas as pd\n",
    "\n",
    "start = time.time()\n",
    "service_labels = pd.read_csv('../data/url_domain_1to1_mappings.csv')\n",
    "news_labels = pd.read_csv('https://raw.githubusercontent.com/LazerLab/DomainDemo/refs/heads/main/data/existing_labels/news_local_natioanl_classification.csv')\n",
    "print(f\"Loaded datasets in {(time.time() - start):2f} seconds\")"
   ]
  },
  {
   "cell_type": "code",
   "execution_count": 2,
   "id": "b08b6908-c04d-47b1-ba82-ce4e6dff6a1f",
   "metadata": {},
   "outputs": [
    {
     "data": {
      "text/html": [
       "<div>\n",
       "<style scoped>\n",
       "    .dataframe tbody tr th:only-of-type {\n",
       "        vertical-align: middle;\n",
       "    }\n",
       "\n",
       "    .dataframe tbody tr th {\n",
       "        vertical-align: top;\n",
       "    }\n",
       "\n",
       "    .dataframe thead th {\n",
       "        text-align: right;\n",
       "    }\n",
       "</style>\n",
       "<table border=\"1\" class=\"dataframe\">\n",
       "  <thead>\n",
       "    <tr style=\"text-align: right;\">\n",
       "      <th></th>\n",
       "      <th>domain</th>\n",
       "      <th>label</th>\n",
       "    </tr>\n",
       "  </thead>\n",
       "  <tbody>\n",
       "    <tr>\n",
       "      <th>1653</th>\n",
       "      <td>xcelfinancialgroup.com</td>\n",
       "      <td>Business &amp; E-Commerce</td>\n",
       "    </tr>\n",
       "    <tr>\n",
       "      <th>1309</th>\n",
       "      <td>irv2.com</td>\n",
       "      <td>Social Media/Forums</td>\n",
       "    </tr>\n",
       "    <tr>\n",
       "      <th>334</th>\n",
       "      <td>gizmodo.com.au</td>\n",
       "      <td>News</td>\n",
       "    </tr>\n",
       "    <tr>\n",
       "      <th>2610</th>\n",
       "      <td>khinsider.com</td>\n",
       "      <td>News</td>\n",
       "    </tr>\n",
       "    <tr>\n",
       "      <th>3001</th>\n",
       "      <td>californiaspecialedlaw.com</td>\n",
       "      <td>Legal &amp; Policy</td>\n",
       "    </tr>\n",
       "  </tbody>\n",
       "</table>\n",
       "</div>"
      ],
      "text/plain": [
       "                          domain                  label\n",
       "1653      xcelfinancialgroup.com  Business & E-Commerce\n",
       "1309                    irv2.com    Social Media/Forums\n",
       "334               gizmodo.com.au                   News\n",
       "2610               khinsider.com                   News\n",
       "3001  californiaspecialedlaw.com         Legal & Policy"
      ]
     },
     "execution_count": 2,
     "metadata": {},
     "output_type": "execute_result"
    }
   ],
   "source": [
    "service_labels.columns = ['domain','label']\n",
    "service_labels['domain'] = service_labels.domain.str.replace('www.','')\n",
    "service_labels.sample(5)"
   ]
  },
  {
   "cell_type": "code",
   "execution_count": 3,
   "id": "b2645d7f-8d68-4f52-85fd-cb2ca8c55a76",
   "metadata": {},
   "outputs": [
    {
     "data": {
      "text/html": [
       "<div>\n",
       "<style scoped>\n",
       "    .dataframe tbody tr th:only-of-type {\n",
       "        vertical-align: middle;\n",
       "    }\n",
       "\n",
       "    .dataframe tbody tr th {\n",
       "        vertical-align: top;\n",
       "    }\n",
       "\n",
       "    .dataframe thead th {\n",
       "        text-align: right;\n",
       "    }\n",
       "</style>\n",
       "<table border=\"1\" class=\"dataframe\">\n",
       "  <thead>\n",
       "    <tr style=\"text-align: right;\">\n",
       "      <th></th>\n",
       "      <th>domain</th>\n",
       "      <th>classification</th>\n",
       "    </tr>\n",
       "  </thead>\n",
       "  <tbody>\n",
       "    <tr>\n",
       "      <th>6657</th>\n",
       "      <td>wfsu.org</td>\n",
       "      <td>local</td>\n",
       "    </tr>\n",
       "    <tr>\n",
       "      <th>2544</th>\n",
       "      <td>ctvn.org</td>\n",
       "      <td>local</td>\n",
       "    </tr>\n",
       "    <tr>\n",
       "      <th>4652</th>\n",
       "      <td>nephitimesnews.com</td>\n",
       "      <td>local</td>\n",
       "    </tr>\n",
       "    <tr>\n",
       "      <th>4498</th>\n",
       "      <td>my13palmsprings.com</td>\n",
       "      <td>local</td>\n",
       "    </tr>\n",
       "    <tr>\n",
       "      <th>11804</th>\n",
       "      <td>etcatholic.org</td>\n",
       "      <td>local</td>\n",
       "    </tr>\n",
       "  </tbody>\n",
       "</table>\n",
       "</div>"
      ],
      "text/plain": [
       "                    domain classification\n",
       "6657              wfsu.org          local\n",
       "2544              ctvn.org          local\n",
       "4652    nephitimesnews.com          local\n",
       "4498   my13palmsprings.com          local\n",
       "11804       etcatholic.org          local"
      ]
     },
     "execution_count": 3,
     "metadata": {},
     "output_type": "execute_result"
    }
   ],
   "source": [
    "news_labels.sample(5)"
   ]
  },
  {
   "cell_type": "code",
   "execution_count": 4,
   "id": "915aaf73-e799-4c48-bc3c-579572863fc1",
   "metadata": {},
   "outputs": [
    {
     "data": {
      "text/plain": [
       "classification\n",
       "local           12102\n",
       "national          763\n",
       "INCONSISTENT       40\n",
       "Name: count, dtype: int64"
      ]
     },
     "execution_count": 4,
     "metadata": {},
     "output_type": "execute_result"
    }
   ],
   "source": [
    "news_labels.classification.value_counts()"
   ]
  },
  {
   "cell_type": "code",
   "execution_count": 5,
   "id": "1eed972c-ad3d-4be8-b9b2-7faf0ed3f09b",
   "metadata": {},
   "outputs": [],
   "source": [
    "# start with service labels\n",
    "combined_labels = service_labels.copy()\n",
    "combined_labels['label_source'] = 'data_provenance_init'\n",
    "\n",
    "# separate local / general news from northeastern\n",
    "all_northeastern_domains = set(news_labels['domain'])\n",
    "local_news_domains = set(news_labels[news_labels.classification=='local']['domain'])\n",
    "news_domains = set(news_labels[news_labels.classification!='local']['domain'])\n",
    "\n",
    "# update labels\n",
    "combined_labels.loc[combined_labels['domain'].isin(news_domains), 'label'] = \"News\"\n",
    "combined_labels.loc[combined_labels['domain'].isin(local_news_domains), 'label'] = \"Local News\"\n",
    "combined_labels.loc[combined_labels['domain'].isin(all_northeastern_domains), 'label_source'] = \"northeastern_domain_demo\"\n",
    "\n",
    "# missing domains (in northeastern news_labels but not in combined_labels yet)\n",
    "missing_domains = news_labels[~news_labels['domain'].isin(combined_labels['domain'])]\n",
    "\n",
    "domains_to_add = missing_domains[['domain', 'classification']].copy()\n",
    "domains_to_add['label'] = domains_to_add['classification'].map(\n",
    "    {'local': 'Local News'}).fillna('News')\n",
    "domains_to_add['label_source'] = 'northeastern_domain_demo'\n",
    "domains_to_add = domains_to_add.drop('classification', axis=1)\n",
    "\n",
    "# Append missing domains to combined_labels\n",
    "combined_labels = pd.concat([combined_labels, domains_to_add], ignore_index=True)\n",
    "\n",
    "# Verify no duplicates\n",
    "assert len(combined_labels['domain'].unique()) == len(combined_labels)"
   ]
  },
  {
   "cell_type": "code",
   "execution_count": 6,
   "id": "ac7ba227-5198-4691-9875-d92856862d1d",
   "metadata": {},
   "outputs": [
    {
     "data": {
      "text/html": [
       "<div>\n",
       "<style scoped>\n",
       "    .dataframe tbody tr th:only-of-type {\n",
       "        vertical-align: middle;\n",
       "    }\n",
       "\n",
       "    .dataframe tbody tr th {\n",
       "        vertical-align: top;\n",
       "    }\n",
       "\n",
       "    .dataframe thead th {\n",
       "        text-align: right;\n",
       "    }\n",
       "</style>\n",
       "<table border=\"1\" class=\"dataframe\">\n",
       "  <thead>\n",
       "    <tr style=\"text-align: right;\">\n",
       "      <th></th>\n",
       "      <th>domain</th>\n",
       "      <th>label</th>\n",
       "      <th>label_source</th>\n",
       "    </tr>\n",
       "  </thead>\n",
       "  <tbody>\n",
       "    <tr>\n",
       "      <th>115</th>\n",
       "      <td>dailyherald.com</td>\n",
       "      <td>Local News</td>\n",
       "      <td>northeastern_domain_demo</td>\n",
       "    </tr>\n",
       "    <tr>\n",
       "      <th>7133</th>\n",
       "      <td>freemansd.com</td>\n",
       "      <td>Local News</td>\n",
       "      <td>northeastern_domain_demo</td>\n",
       "    </tr>\n",
       "    <tr>\n",
       "      <th>666</th>\n",
       "      <td>tech.slashdot.org</td>\n",
       "      <td>Social Media/Forums</td>\n",
       "      <td>data_provenance_init</td>\n",
       "    </tr>\n",
       "    <tr>\n",
       "      <th>3832</th>\n",
       "      <td>katriinatalaslahti.com</td>\n",
       "      <td>News</td>\n",
       "      <td>data_provenance_init</td>\n",
       "    </tr>\n",
       "    <tr>\n",
       "      <th>522</th>\n",
       "      <td>triphobo.com</td>\n",
       "      <td>Entertainment &amp; Culture</td>\n",
       "      <td>data_provenance_init</td>\n",
       "    </tr>\n",
       "    <tr>\n",
       "      <th>8313</th>\n",
       "      <td>mercyhurst.edu</td>\n",
       "      <td>Local News</td>\n",
       "      <td>northeastern_domain_demo</td>\n",
       "    </tr>\n",
       "    <tr>\n",
       "      <th>1673</th>\n",
       "      <td>elevate.com.au</td>\n",
       "      <td>Business &amp; E-Commerce</td>\n",
       "      <td>data_provenance_init</td>\n",
       "    </tr>\n",
       "    <tr>\n",
       "      <th>13506</th>\n",
       "      <td>kcap.com</td>\n",
       "      <td>Local News</td>\n",
       "      <td>northeastern_domain_demo</td>\n",
       "    </tr>\n",
       "    <tr>\n",
       "      <th>13530</th>\n",
       "      <td>northernplainsindependent.com</td>\n",
       "      <td>Local News</td>\n",
       "      <td>northeastern_domain_demo</td>\n",
       "    </tr>\n",
       "    <tr>\n",
       "      <th>6776</th>\n",
       "      <td>dixonpilot.com</td>\n",
       "      <td>Local News</td>\n",
       "      <td>northeastern_domain_demo</td>\n",
       "    </tr>\n",
       "  </tbody>\n",
       "</table>\n",
       "</div>"
      ],
      "text/plain": [
       "                              domain                    label  \\\n",
       "115                  dailyherald.com               Local News   \n",
       "7133                   freemansd.com               Local News   \n",
       "666                tech.slashdot.org      Social Media/Forums   \n",
       "3832          katriinatalaslahti.com                     News   \n",
       "522                     triphobo.com  Entertainment & Culture   \n",
       "8313                  mercyhurst.edu               Local News   \n",
       "1673                  elevate.com.au    Business & E-Commerce   \n",
       "13506                       kcap.com               Local News   \n",
       "13530  northernplainsindependent.com               Local News   \n",
       "6776                  dixonpilot.com               Local News   \n",
       "\n",
       "                   label_source  \n",
       "115    northeastern_domain_demo  \n",
       "7133   northeastern_domain_demo  \n",
       "666        data_provenance_init  \n",
       "3832       data_provenance_init  \n",
       "522        data_provenance_init  \n",
       "8313   northeastern_domain_demo  \n",
       "1673       data_provenance_init  \n",
       "13506  northeastern_domain_demo  \n",
       "13530  northeastern_domain_demo  \n",
       "6776   northeastern_domain_demo  "
      ]
     },
     "execution_count": 6,
     "metadata": {},
     "output_type": "execute_result"
    }
   ],
   "source": [
    "combined_labels.sample(10)"
   ]
  },
  {
   "cell_type": "code",
   "execution_count": 7,
   "id": "9b1b4d02-9d19-426e-9513-9f16f24ffa01",
   "metadata": {},
   "outputs": [
    {
     "data": {
      "text/plain": [
       "label\n",
       "Local News                         12102\n",
       "News                                1791\n",
       "Business & E-Commerce                780\n",
       "Entertainment & Culture              597\n",
       "Science, Academia, & Technology      471\n",
       "General Information & Education      426\n",
       "Social Media/Forums                  151\n",
       "Legal & Policy                       136\n",
       "Blogs                                135\n",
       "Other                                109\n",
       "Books                                 58\n",
       "Name: count, dtype: int64"
      ]
     },
     "execution_count": 7,
     "metadata": {},
     "output_type": "execute_result"
    }
   ],
   "source": [
    "combined_labels.label.value_counts()"
   ]
  },
  {
   "cell_type": "code",
   "execution_count": 8,
   "id": "a605fc2a-2f23-4c16-8251-412daad8e7b4",
   "metadata": {},
   "outputs": [],
   "source": [
    "import numpy as np\n",
    "\n",
    "combined_labels['set'] = 'train'\n",
    "\n",
    "for label in combined_labels['label'].unique():\n",
    "    label_indices = combined_labels[combined_labels['label'] == label].index.tolist()\n",
    "    np.random.shuffle(label_indices)\n",
    "    \n",
    "    test_size = int(len(label_indices) * 0.10)\n",
    "    val_size = int(len(label_indices) * 0.05)\n",
    "    \n",
    "    test_indices = label_indices[:test_size]\n",
    "    val_indices = label_indices[test_size:test_size + val_size]\n",
    "    \n",
    "    combined_labels.loc[test_indices, 'set'] = 'test'\n",
    "    combined_labels.loc[val_indices, 'set'] = 'val'"
   ]
  },
  {
   "cell_type": "code",
   "execution_count": 9,
   "id": "b4ad6955-e031-4240-9819-2a62dcce1e71",
   "metadata": {},
   "outputs": [],
   "source": [
    "# clean and sort\n",
    "\n",
    "combined_labels = combined_labels.dropna(subset=['label'])\n",
    "\n",
    "combined_labels = combined_labels.sort_values(\n",
    "    by=['label', 'label_source', 'set', 'domain'],\n",
    "    ascending=[True, True, True, True]\n",
    ").reset_index(drop=True)"
   ]
  },
  {
   "cell_type": "code",
   "execution_count": 10,
   "id": "f7767252-a74f-4446-ab1e-8a4e2cbdf2a2",
   "metadata": {},
   "outputs": [],
   "source": [
    "combined_labels.to_csv('../data/combined_domain_labels_16k_splits.csv',index=False)"
   ]
  },
  {
   "cell_type": "code",
   "execution_count": 11,
   "id": "1b2dc4ba-e174-4e53-b69f-77e6e14a3c64",
   "metadata": {},
   "outputs": [
    {
     "data": {
      "text/plain": [
       "set\n",
       "train    0.850621\n",
       "test     0.099725\n",
       "val      0.049654\n",
       "Name: proportion, dtype: float64"
      ]
     },
     "execution_count": 11,
     "metadata": {},
     "output_type": "execute_result"
    }
   ],
   "source": [
    "combined_labels.set.value_counts(normalize=True)"
   ]
  },
  {
   "cell_type": "code",
   "execution_count": 12,
   "id": "aa82eddb-de2c-485c-ab70-26ac9f112c17",
   "metadata": {},
   "outputs": [
    {
     "data": {
      "text/html": [
       "<div>\n",
       "<style scoped>\n",
       "    .dataframe tbody tr th:only-of-type {\n",
       "        vertical-align: middle;\n",
       "    }\n",
       "\n",
       "    .dataframe tbody tr th {\n",
       "        vertical-align: top;\n",
       "    }\n",
       "\n",
       "    .dataframe thead th {\n",
       "        text-align: right;\n",
       "    }\n",
       "</style>\n",
       "<table border=\"1\" class=\"dataframe\">\n",
       "  <thead>\n",
       "    <tr style=\"text-align: right;\">\n",
       "      <th></th>\n",
       "      <th>domain</th>\n",
       "      <th>label</th>\n",
       "      <th>label_source</th>\n",
       "      <th>set</th>\n",
       "    </tr>\n",
       "  </thead>\n",
       "  <tbody>\n",
       "    <tr>\n",
       "      <th>14330</th>\n",
       "      <td>3riversepiscopal.blogspot.com</td>\n",
       "      <td>News</td>\n",
       "      <td>data_provenance_init</td>\n",
       "      <td>train</td>\n",
       "    </tr>\n",
       "    <tr>\n",
       "      <th>502</th>\n",
       "      <td>freewayprojects.com</td>\n",
       "      <td>Business &amp; E-Commerce</td>\n",
       "      <td>data_provenance_init</td>\n",
       "      <td>train</td>\n",
       "    </tr>\n",
       "    <tr>\n",
       "      <th>74</th>\n",
       "      <td>myfamilynutrition.com</td>\n",
       "      <td>Blogs</td>\n",
       "      <td>data_provenance_init</td>\n",
       "      <td>train</td>\n",
       "    </tr>\n",
       "    <tr>\n",
       "      <th>5517</th>\n",
       "      <td>dreamhosters.com</td>\n",
       "      <td>Local News</td>\n",
       "      <td>northeastern_domain_demo</td>\n",
       "      <td>train</td>\n",
       "    </tr>\n",
       "    <tr>\n",
       "      <th>224</th>\n",
       "      <td>gozocabs.com</td>\n",
       "      <td>Business &amp; E-Commerce</td>\n",
       "      <td>data_provenance_init</td>\n",
       "      <td>test</td>\n",
       "    </tr>\n",
       "    <tr>\n",
       "      <th>8833</th>\n",
       "      <td>mysugarhousejournal.com</td>\n",
       "      <td>Local News</td>\n",
       "      <td>northeastern_domain_demo</td>\n",
       "      <td>train</td>\n",
       "    </tr>\n",
       "    <tr>\n",
       "      <th>13625</th>\n",
       "      <td>zorak.monmouth.edu</td>\n",
       "      <td>Local News</td>\n",
       "      <td>northeastern_domain_demo</td>\n",
       "      <td>train</td>\n",
       "    </tr>\n",
       "    <tr>\n",
       "      <th>9003</th>\n",
       "      <td>newportnow.online</td>\n",
       "      <td>Local News</td>\n",
       "      <td>northeastern_domain_demo</td>\n",
       "      <td>train</td>\n",
       "    </tr>\n",
       "    <tr>\n",
       "      <th>15058</th>\n",
       "      <td>thedailystar.net</td>\n",
       "      <td>News</td>\n",
       "      <td>data_provenance_init</td>\n",
       "      <td>train</td>\n",
       "    </tr>\n",
       "    <tr>\n",
       "      <th>1098</th>\n",
       "      <td>boreaseindhoven.nl</td>\n",
       "      <td>Entertainment &amp; Culture</td>\n",
       "      <td>data_provenance_init</td>\n",
       "      <td>train</td>\n",
       "    </tr>\n",
       "  </tbody>\n",
       "</table>\n",
       "</div>"
      ],
      "text/plain": [
       "                              domain                    label  \\\n",
       "14330  3riversepiscopal.blogspot.com                     News   \n",
       "502              freewayprojects.com    Business & E-Commerce   \n",
       "74             myfamilynutrition.com                    Blogs   \n",
       "5517                dreamhosters.com               Local News   \n",
       "224                     gozocabs.com    Business & E-Commerce   \n",
       "8833         mysugarhousejournal.com               Local News   \n",
       "13625             zorak.monmouth.edu               Local News   \n",
       "9003               newportnow.online               Local News   \n",
       "15058               thedailystar.net                     News   \n",
       "1098              boreaseindhoven.nl  Entertainment & Culture   \n",
       "\n",
       "                   label_source    set  \n",
       "14330      data_provenance_init  train  \n",
       "502        data_provenance_init  train  \n",
       "74         data_provenance_init  train  \n",
       "5517   northeastern_domain_demo  train  \n",
       "224        data_provenance_init   test  \n",
       "8833   northeastern_domain_demo  train  \n",
       "13625  northeastern_domain_demo  train  \n",
       "9003   northeastern_domain_demo  train  \n",
       "15058      data_provenance_init  train  \n",
       "1098       data_provenance_init  train  "
      ]
     },
     "execution_count": 12,
     "metadata": {},
     "output_type": "execute_result"
    }
   ],
   "source": [
    "combined_labels.sample(10)"
   ]
  },
  {
   "cell_type": "markdown",
   "id": "02e73fc5-db35-47e0-b360-a102586eb2b0",
   "metadata": {},
   "source": [
    "# Stats for Paper"
   ]
  },
  {
   "cell_type": "code",
   "execution_count": 13,
   "id": "dbd7fb89-18ca-4c1f-bc13-02d8eeb69390",
   "metadata": {},
   "outputs": [
    {
     "data": {
      "text/plain": [
       "16756"
      ]
     },
     "execution_count": 13,
     "metadata": {},
     "output_type": "execute_result"
    }
   ],
   "source": [
    "# how many unique domains?\n",
    "len(combined_labels)"
   ]
  },
  {
   "cell_type": "code",
   "execution_count": 14,
   "id": "0f3df002-ebf6-47d0-8ca8-2a22f0782a7e",
   "metadata": {},
   "outputs": [
    {
     "data": {
      "text/plain": [
       "16756"
      ]
     },
     "execution_count": 14,
     "metadata": {},
     "output_type": "execute_result"
    }
   ],
   "source": [
    "# how many unique domains? (validation\n",
    "len(combined_labels.domain.unique())"
   ]
  },
  {
   "cell_type": "code",
   "execution_count": 15,
   "id": "015a385f-2f17-43de-843d-2090afa57c37",
   "metadata": {},
   "outputs": [
    {
     "data": {
      "text/plain": [
       "label\n",
       "News                               1482\n",
       "Business & E-Commerce               787\n",
       "Entertainment & Culture             611\n",
       "Science, Academia, & Technology     478\n",
       "General Information & Education     429\n",
       "Social Media/Forums                 156\n",
       "Legal & Policy                      142\n",
       "Blogs                               137\n",
       "Other                               111\n",
       "Books                                58\n",
       "Name: count, dtype: int64"
      ]
     },
     "execution_count": 15,
     "metadata": {},
     "output_type": "execute_result"
    }
   ],
   "source": [
    "service_labels.label.value_counts()"
   ]
  },
  {
   "cell_type": "code",
   "execution_count": 16,
   "id": "6e6b2065-0c2e-49a7-9ad4-2b0b6ba36f06",
   "metadata": {},
   "outputs": [
    {
     "data": {
      "text/plain": [
       "2912"
      ]
     },
     "execution_count": 16,
     "metadata": {},
     "output_type": "execute_result"
    }
   ],
   "source": [
    "# how many non-news websites?\n",
    "len(service_labels[service_labels.label!='News'])"
   ]
  }
 ],
 "metadata": {
  "kernelspec": {
   "display_name": "Python 3 (ipykernel)",
   "language": "python",
   "name": "python3"
  },
  "language_info": {
   "codemirror_mode": {
    "name": "ipython",
    "version": 3
   },
   "file_extension": ".py",
   "mimetype": "text/x-python",
   "name": "python",
   "nbconvert_exporter": "python",
   "pygments_lexer": "ipython3",
   "version": "3.11.5"
  }
 },
 "nbformat": 4,
 "nbformat_minor": 5
}
