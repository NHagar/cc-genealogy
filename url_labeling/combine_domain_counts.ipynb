{
 "cells": [
  {
   "cell_type": "markdown",
   "id": "fb108326-aab6-48b3-945a-60cfcc9d4a84",
   "metadata": {
    "jp-MarkdownHeadingCollapsed": true
   },
   "source": [
    "# List of CC Datasets"
   ]
  },
  {
   "cell_type": "code",
   "execution_count": 1,
   "id": "3083e3bd-e246-452b-9cf4-f25aadc47a0d",
   "metadata": {},
   "outputs": [],
   "source": [
    "DATASETS = [\n",
    "    \"nhagar/CC_MAIN_2017_47_urls\",\n",
    "    \"nhagar/CC_MAIN_2024_18_urls\",\n",
    "    \"nhagar/CC-MAIN-2021-17_urls\",\n",
    "    \"nhagar/CC-MAIN-2016-40_urls\",\n",
    "    \"nhagar/CC-MAIN-2017-13_urls\",\n",
    "    \"nhagar/CC-MAIN-2017-17_urls\",\n",
    "    \"nhagar/CC-MAIN-2017-34_urls\",\n",
    "    \"nhagar/CC-MAIN-2017-43_urls\",\n",
    "    \"nhagar/CC-MAIN-2018-51_urls\",\n",
    "    \"nhagar/CC-MAIN-2019-39_urls\",\n",
    "    \"nhagar/CC-MAIN-2020-05_urls\",\n",
    "    \"nhagar/CC-MAIN-2020-34_urls\",\n",
    "    \"nhagar/CC-MAIN-2021-31_urls\",\n",
    "    \"nhagar/CC-MAIN-2022-40_urls\",\n",
    "    \"nhagar/CC-MAIN-2023-06_urls\",\n",
    "    \"nhagar/CC-MAIN-2016-18_urls\",\n",
    "    \"nhagar/CC-MAIN-2014-15_urls\",\n",
    "    \"nhagar/CC-MAIN-2015-32_urls\",\n",
    "    \"nhagar/CC-MAIN-2013-48_urls\",\n",
    "    \"nhagar/CC-MAIN-2014-10_urls\",\n",
    "    \"nhagar/CC-MAIN-2014-23_urls\",\n",
    "    \"nhagar/CC-MAIN-2014-35_urls\",\n",
    "    \"nhagar/CC-MAIN-2014-41_urls\",\n",
    "    \"nhagar/CC-MAIN-2014-42_urls\",\n",
    "    \"nhagar/CC-MAIN-2014-49_urls\",\n",
    "    \"nhagar/CC-MAIN-2014-52_urls\",\n",
    "    \"nhagar/CC-MAIN-2015-06_urls\",\n",
    "    \"nhagar/CC-MAIN-2015-11_urls\",\n",
    "    \"nhagar/CC-MAIN-2015-14_urls\",\n",
    "    \"nhagar/CC-MAIN-2015-18_urls\",\n",
    "    \"nhagar/CC-MAIN-2015-35_urls\",\n",
    "    \"nhagar/CC-MAIN-2015-22_urls\",\n",
    "    \"nhagar/CC-MAIN-2015-27_urls\",\n",
    "    \"nhagar/CC-MAIN-2015-40_urls\",\n",
    "    \"nhagar/CC-MAIN-2015-48_urls\",\n",
    "    \"nhagar/CC-MAIN-2016-07_urls\",\n",
    "    \"nhagar/CC-MAIN-2016-30_urls\",\n",
    "    \"nhagar/CC-MAIN-2016-22_urls\",\n",
    "    \"nhagar/CC-MAIN-2016-26_urls\",\n",
    "    \"nhagar/CC-MAIN-2016-36_urls\",\n",
    "    \"nhagar/CC-MAIN-2016-44_urls\",\n",
    "    \"nhagar/CC-MAIN-2016-50_urls\",\n",
    "    \"nhagar/CC-MAIN-2017-04_urls\",\n",
    "    \"nhagar/CC-MAIN-2017-09_urls\",\n",
    "    \"nhagar/CC-MAIN-2017-22_urls\",\n",
    "    \"nhagar/CC-MAIN-2017-51_urls\",\n",
    "    \"nhagar/CC-MAIN-2018-05_urls\",\n",
    "    \"nhagar/CC-MAIN-2017-26_urls\",\n",
    "    \"nhagar/CC-MAIN-2018-09_urls\",\n",
    "    \"nhagar/CC-MAIN-2018-17_urls\",\n",
    "    \"nhagar/CC-MAIN-2018-22_urls\",\n",
    "    \"nhagar/CC-MAIN-2018-26_urls\",\n",
    "    \"nhagar/CC-MAIN-2018-30_urls\",\n",
    "    \"nhagar/CC-MAIN-2018-34_urls\",\n",
    "    \"nhagar/CC-MAIN-2018-39_urls\",\n",
    "    \"nhagar/CC-MAIN-2018-43_urls\",\n",
    "    \"nhagar/CC-MAIN-2018-47_urls\",\n",
    "    \"nhagar/CC-MAIN-2019-04_urls\",\n",
    "    \"nhagar/CC-MAIN-2019-09_urls\",\n",
    "    \"nhagar/CC-MAIN-2018-13_urls\",\n",
    "    \"nhagar/CC-MAIN-2019-18_urls\",\n",
    "    \"nhagar/CC-MAIN-2019-22_urls\",\n",
    "    \"nhagar/CC-MAIN-2019-13_urls\",\n",
    "    \"nhagar/CC-MAIN-2019-30_urls\",\n",
    "    \"nhagar/CC-MAIN-2019-35_urls\",\n",
    "    \"nhagar/CC-MAIN-2019-43_urls\",\n",
    "    \"nhagar/CC-MAIN-2019-26_urls\",\n",
    "    \"nhagar/CC-MAIN-2019-51_urls\",\n",
    "    \"nhagar/CC-MAIN-2019-47_urls\",\n",
    "    \"nhagar/CC-MAIN-2020-16_urls\",\n",
    "    \"nhagar/CC-MAIN-2020-24_urls\",\n",
    "    \"nhagar/CC-MAIN-2020-10_urls\",\n",
    "    \"nhagar/CC-MAIN-2020-40_urls\",\n",
    "    \"nhagar/CC-MAIN-2020-50_urls\",\n",
    "    \"nhagar/CC-MAIN-2020-29_urls\",\n",
    "    \"nhagar/CC-MAIN-2021-10_urls\",\n",
    "    \"nhagar/CC-MAIN-2021-25_urls\",\n",
    "    \"nhagar/CC-MAIN-2021-43_urls\",\n",
    "    \"nhagar/CC-MAIN-2021-49_urls\",\n",
    "    \"nhagar/CC-MAIN-2017-30_urls\",\n",
    "    \"nhagar/CC-MAIN-2022-21_urls\",\n",
    "    \"nhagar/CC-MAIN-2022-27_urls\",\n",
    "    \"nhagar/CC-MAIN-2021-04_urls\",\n",
    "    \"nhagar/CC-MAIN-2022-05_urls\",\n",
    "    \"nhagar/CC-MAIN-2023-23_urls\",\n",
    "    \"nhagar/CC-MAIN-2023-40_urls\",\n",
    "    \"nhagar/CC-MAIN-2023-50_urls\",\n",
    "    \"nhagar/CC-MAIN-2024-10_urls\",\n",
    "    \"nhagar/CC-MAIN-2023-14_urls\",\n",
    "    \"nhagar/CC-MAIN-2013-20_urls\",\n",
    "    \"nhagar/CC-MAIN-2021-39_urls\",\n",
    "    \"nhagar/CC-MAIN-2022-33_urls\",\n",
    "    \"nhagar/CC-MAIN-2022-49_urls\",\n",
    "    \"nhagar/CC-MAIN-2017-39_urls\",\n",
    "    \"nhagar/CC-MAIN-2021-21_urls\",\n",
    "    \"nhagar/CC-MAIN-2020-45_urls\"\n",
    "]"
   ]
  },
  {
   "cell_type": "markdown",
   "id": "3e870f29-0239-489e-a780-6e201e9287b6",
   "metadata": {},
   "source": [
    "# Load Datasets"
   ]
  },
  {
   "cell_type": "code",
   "execution_count": 2,
   "id": "beab99b6-6ba0-4aea-8751-a35885a94677",
   "metadata": {},
   "outputs": [
    {
     "name": "stdout",
     "output_type": "stream",
     "text": [
      "There are 96 datasets\n"
     ]
    }
   ],
   "source": [
    "import pandas as pd\n",
    "import dask.dataframe as dd\n",
    "from tqdm import tqdm\n",
    "import gc\n",
    "\n",
    "print(f\"There are {len(DATASETS)} datasets\")"
   ]
  },
  {
   "cell_type": "code",
   "execution_count": null,
   "id": "5a002995-3c9f-4ff5-956b-f30239b02bfb",
   "metadata": {},
   "outputs": [
    {
     "name": "stderr",
     "output_type": "stream",
     "text": [
      "  0%|                                                    | 0/96 [00:00<?, ?it/s]/Library/Frameworks/Python.framework/Versions/3.12/lib/python3.12/site-packages/tqdm/auto.py:21: TqdmWarning: IProgress not found. Please update jupyter and ipywidgets. See https://ipywidgets.readthedocs.io/en/stable/user_install.html\n",
      "  from .autonotebook import tqdm as notebook_tqdm\n",
      "/var/folders/83/5zfswn457yq31_w6sm7j9cxr0000gn/T/ipykernel_6251/3235881666.py:13: FutureWarning: The behavior of DataFrame concatenation with empty or all-NA entries is deprecated. In a future version, this will no longer exclude empty or all-NA columns when determining the result dtypes. To retain the old behavior, exclude the relevant entries before the concat operation.\n",
      "  combined_df = pd.concat([combined_df, current_aggregated])\n",
      " 10%|████▏                                   | 10/96 [57:32<9:54:31, 414.79s/it]"
     ]
    }
   ],
   "source": [
    "combined_df = pd.DataFrame(columns=['url_host_name', 'url_count'])\n",
    "\n",
    "for d in tqdm(DATASETS):\n",
    "    try:\n",
    "        # Load and compute the dataset\n",
    "        df = dd.read_parquet(f\"hf://datasets/{d}/data/train-*.parquet\")\n",
    "        current_df = df.compute()\n",
    "        \n",
    "        # Aggregate by url_host_name\n",
    "        current_aggregated = current_df.groupby('url_host_name', as_index=False)['url_count'].sum()\n",
    "        \n",
    "        # Concatenate with existing results\n",
    "        combined_df = pd.concat([combined_df, current_aggregated])\n",
    "        combined_df = combined_df.groupby('url_host_name', as_index=False)['url_count'].sum()\n",
    "                \n",
    "        # Clean up memory\n",
    "        del df, current_df, current_aggregated\n",
    "        gc.collect()\n",
    "        \n",
    "    except Exception as e:\n",
    "        print(f\"Error with {d}: {e}\")"
   ]
  },
  {
   "cell_type": "markdown",
   "id": "54300c22-e220-4f8e-853b-affac63d491d",
   "metadata": {},
   "source": [
    "# Combine Domain Counts"
   ]
  },
  {
   "cell_type": "code",
   "execution_count": null,
   "id": "65a907d6-e1a5-4836-89ca-00b486cc7234",
   "metadata": {},
   "outputs": [],
   "source": [
    "#combined_df.sort_values(by='url_count', ascending=False, inplace=True)\n",
    "combined_df.to_csv('all_domains.csv',index=False)\n",
    "# Sort by url_count in descending order\n",
    "combined_df.sort_values(by='url_count', ascending=False, inplace=True)\n",
    "combined_df.to_csv('all_domains_sorted.csv',index=False)"
   ]
  },
  {
   "cell_type": "code",
   "execution_count": null,
   "id": "b70cd419-7977-4580-954b-c399fa31eaa2",
   "metadata": {},
   "outputs": [],
   "source": [
    "len(samples)"
   ]
  },
  {
   "cell_type": "code",
   "execution_count": null,
   "id": "4b718fce-bc46-48be-9220-e6a18bf76960",
   "metadata": {},
   "outputs": [],
   "source": []
  }
 ],
 "metadata": {
  "kernelspec": {
   "display_name": "Python 3 (ipykernel)",
   "language": "python",
   "name": "python3"
  },
  "language_info": {
   "codemirror_mode": {
    "name": "ipython",
    "version": 3
   },
   "file_extension": ".py",
   "mimetype": "text/x-python",
   "name": "python",
   "nbconvert_exporter": "python",
   "pygments_lexer": "ipython3",
   "version": "3.12.0"
  }
 },
 "nbformat": 4,
 "nbformat_minor": 5
}
