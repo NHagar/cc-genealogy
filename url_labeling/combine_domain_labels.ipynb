{
 "cells": [
  {
   "cell_type": "code",
   "execution_count": 1,
   "id": "07778129-f2c0-41fc-83ef-89efa79e2efa",
   "metadata": {},
   "outputs": [
    {
     "name": "stdout",
     "output_type": "stream",
     "text": [
      "Loaded datasets in 1.073114 seconds\n"
     ]
    }
   ],
   "source": [
    "import time\n",
    "import pandas as pd\n",
    "\n",
    "start = time.time()\n",
    "service_labels = pd.read_csv('../data/url_domain_1to1_mappings.csv')\n",
    "news_labels = pd.read_csv('https://raw.githubusercontent.com/LazerLab/DomainDemo/refs/heads/main/data/existing_labels/news_local_natioanl_classification.csv')\n",
    "print(f\"Loaded datasets in {(time.time() - start):2f} seconds\")"
   ]
  },
  {
   "cell_type": "code",
   "execution_count": 2,
   "id": "b08b6908-c04d-47b1-ba82-ce4e6dff6a1f",
   "metadata": {},
   "outputs": [
    {
     "data": {
      "text/html": [
       "<div>\n",
       "<style scoped>\n",
       "    .dataframe tbody tr th:only-of-type {\n",
       "        vertical-align: middle;\n",
       "    }\n",
       "\n",
       "    .dataframe tbody tr th {\n",
       "        vertical-align: top;\n",
       "    }\n",
       "\n",
       "    .dataframe thead th {\n",
       "        text-align: right;\n",
       "    }\n",
       "</style>\n",
       "<table border=\"1\" class=\"dataframe\">\n",
       "  <thead>\n",
       "    <tr style=\"text-align: right;\">\n",
       "      <th></th>\n",
       "      <th>domain</th>\n",
       "      <th>label</th>\n",
       "    </tr>\n",
       "  </thead>\n",
       "  <tbody>\n",
       "    <tr>\n",
       "      <th>3697</th>\n",
       "      <td>freebeacon.com</td>\n",
       "      <td>News</td>\n",
       "    </tr>\n",
       "    <tr>\n",
       "      <th>3270</th>\n",
       "      <td>dearauthor.com</td>\n",
       "      <td>Social Media/Forums</td>\n",
       "    </tr>\n",
       "    <tr>\n",
       "      <th>1793</th>\n",
       "      <td>electricoceanband.com</td>\n",
       "      <td>Entertainment &amp; Culture</td>\n",
       "    </tr>\n",
       "    <tr>\n",
       "      <th>3482</th>\n",
       "      <td>therealnews.com</td>\n",
       "      <td>News</td>\n",
       "    </tr>\n",
       "    <tr>\n",
       "      <th>829</th>\n",
       "      <td>jeb.biologists.org</td>\n",
       "      <td>Science, Academia, &amp; Technology</td>\n",
       "    </tr>\n",
       "  </tbody>\n",
       "</table>\n",
       "</div>"
      ],
      "text/plain": [
       "                     domain                            label\n",
       "3697         freebeacon.com                             News\n",
       "3270         dearauthor.com              Social Media/Forums\n",
       "1793  electricoceanband.com          Entertainment & Culture\n",
       "3482        therealnews.com                             News\n",
       "829      jeb.biologists.org  Science, Academia, & Technology"
      ]
     },
     "execution_count": 2,
     "metadata": {},
     "output_type": "execute_result"
    }
   ],
   "source": [
    "service_labels.columns = ['domain','label']\n",
    "service_labels['domain'] = service_labels.domain.str.replace('www.','')\n",
    "service_labels.sample(5)"
   ]
  },
  {
   "cell_type": "code",
   "execution_count": 3,
   "id": "1eed972c-ad3d-4be8-b9b2-7faf0ed3f09b",
   "metadata": {},
   "outputs": [],
   "source": [
    "combined_labels = service_labels.copy()\n",
    "combined_labels['label_source'] = 'data_provenance_init'\n",
    "\n",
    "news_domains = set(news_labels['domain'])\n",
    "combined_labels.loc[combined_labels['domain'].isin(news_domains), 'label'] = \"News\"\n",
    "combined_labels.loc[combined_labels['domain'].isin(news_domains), 'label_source'] = \"northeastern_domain_demo\"\n",
    "\n",
    "# Add missing domains from news_labels\n",
    "missing_domains = news_labels[~news_labels['domain'].isin(combined_labels['domain'])]\n",
    "if not missing_domains.empty:\n",
    "    new_rows = pd.DataFrame({\n",
    "        'domain': missing_domains['domain'],\n",
    "        'label': \"News\",\n",
    "        'label_source': \"northeastern_domain_demo\"\n",
    "    })\n",
    "    combined_labels = pd.concat([combined_labels, new_rows], ignore_index=True)"
   ]
  },
  {
   "cell_type": "code",
   "execution_count": 4,
   "id": "ac7ba227-5198-4691-9875-d92856862d1d",
   "metadata": {},
   "outputs": [
    {
     "data": {
      "text/html": [
       "<div>\n",
       "<style scoped>\n",
       "    .dataframe tbody tr th:only-of-type {\n",
       "        vertical-align: middle;\n",
       "    }\n",
       "\n",
       "    .dataframe tbody tr th {\n",
       "        vertical-align: top;\n",
       "    }\n",
       "\n",
       "    .dataframe thead th {\n",
       "        text-align: right;\n",
       "    }\n",
       "</style>\n",
       "<table border=\"1\" class=\"dataframe\">\n",
       "  <thead>\n",
       "    <tr style=\"text-align: right;\">\n",
       "      <th></th>\n",
       "      <th>domain</th>\n",
       "      <th>label</th>\n",
       "      <th>label_source</th>\n",
       "    </tr>\n",
       "  </thead>\n",
       "  <tbody>\n",
       "    <tr>\n",
       "      <th>4608</th>\n",
       "      <td>crisismagazine.com</td>\n",
       "      <td>News</td>\n",
       "      <td>northeastern_domain_demo</td>\n",
       "    </tr>\n",
       "    <tr>\n",
       "      <th>14497</th>\n",
       "      <td>grantcountynewspapers.com</td>\n",
       "      <td>News</td>\n",
       "      <td>northeastern_domain_demo</td>\n",
       "    </tr>\n",
       "    <tr>\n",
       "      <th>13889</th>\n",
       "      <td>newpaltzx.com</td>\n",
       "      <td>News</td>\n",
       "      <td>northeastern_domain_demo</td>\n",
       "    </tr>\n",
       "    <tr>\n",
       "      <th>5946</th>\n",
       "      <td>arizonaguide.com</td>\n",
       "      <td>News</td>\n",
       "      <td>northeastern_domain_demo</td>\n",
       "    </tr>\n",
       "    <tr>\n",
       "      <th>2622</th>\n",
       "      <td>vogue.com</td>\n",
       "      <td>News</td>\n",
       "      <td>data_provenance_init</td>\n",
       "    </tr>\n",
       "    <tr>\n",
       "      <th>7256</th>\n",
       "      <td>greenepublishing.com</td>\n",
       "      <td>News</td>\n",
       "      <td>northeastern_domain_demo</td>\n",
       "    </tr>\n",
       "    <tr>\n",
       "      <th>4100</th>\n",
       "      <td>pillohotelashbourne.com</td>\n",
       "      <td>Business &amp; E-Commerce</td>\n",
       "      <td>data_provenance_init</td>\n",
       "    </tr>\n",
       "    <tr>\n",
       "      <th>13054</th>\n",
       "      <td>sitraders.com</td>\n",
       "      <td>News</td>\n",
       "      <td>northeastern_domain_demo</td>\n",
       "    </tr>\n",
       "    <tr>\n",
       "      <th>7590</th>\n",
       "      <td>kakm.org</td>\n",
       "      <td>News</td>\n",
       "      <td>northeastern_domain_demo</td>\n",
       "    </tr>\n",
       "    <tr>\n",
       "      <th>15139</th>\n",
       "      <td>altonadvertiser.com</td>\n",
       "      <td>News</td>\n",
       "      <td>northeastern_domain_demo</td>\n",
       "    </tr>\n",
       "  </tbody>\n",
       "</table>\n",
       "</div>"
      ],
      "text/plain": [
       "                          domain                  label  \\\n",
       "4608          crisismagazine.com                   News   \n",
       "14497  grantcountynewspapers.com                   News   \n",
       "13889              newpaltzx.com                   News   \n",
       "5946            arizonaguide.com                   News   \n",
       "2622                   vogue.com                   News   \n",
       "7256        greenepublishing.com                   News   \n",
       "4100     pillohotelashbourne.com  Business & E-Commerce   \n",
       "13054              sitraders.com                   News   \n",
       "7590                    kakm.org                   News   \n",
       "15139        altonadvertiser.com                   News   \n",
       "\n",
       "                   label_source  \n",
       "4608   northeastern_domain_demo  \n",
       "14497  northeastern_domain_demo  \n",
       "13889  northeastern_domain_demo  \n",
       "5946   northeastern_domain_demo  \n",
       "2622       data_provenance_init  \n",
       "7256   northeastern_domain_demo  \n",
       "4100       data_provenance_init  \n",
       "13054  northeastern_domain_demo  \n",
       "7590   northeastern_domain_demo  \n",
       "15139  northeastern_domain_demo  "
      ]
     },
     "execution_count": 4,
     "metadata": {},
     "output_type": "execute_result"
    }
   ],
   "source": [
    "combined_labels.sample(10)"
   ]
  },
  {
   "cell_type": "code",
   "execution_count": 5,
   "id": "9b1b4d02-9d19-426e-9513-9f16f24ffa01",
   "metadata": {},
   "outputs": [
    {
     "data": {
      "text/plain": [
       "label\n",
       "News                               13893\n",
       "Business & E-Commerce                780\n",
       "Entertainment & Culture              597\n",
       "Science, Academia, & Technology      471\n",
       "General Information & Education      426\n",
       "Social Media/Forums                  151\n",
       "Legal & Policy                       136\n",
       "Blogs                                135\n",
       "Other                                109\n",
       "Books                                 58\n",
       "Name: count, dtype: int64"
      ]
     },
     "execution_count": 5,
     "metadata": {},
     "output_type": "execute_result"
    }
   ],
   "source": [
    "combined_labels.label.value_counts()"
   ]
  },
  {
   "cell_type": "code",
   "execution_count": 6,
   "id": "a605fc2a-2f23-4c16-8251-412daad8e7b4",
   "metadata": {},
   "outputs": [
    {
     "data": {
      "text/plain": [
       "16759"
      ]
     },
     "execution_count": 6,
     "metadata": {},
     "output_type": "execute_result"
    }
   ],
   "source": [
    "len(combined_labels)"
   ]
  },
  {
   "cell_type": "code",
   "execution_count": 7,
   "id": "f7767252-a74f-4446-ab1e-8a4e2cbdf2a2",
   "metadata": {},
   "outputs": [],
   "source": [
    "combined_labels.to_csv('../data/combined_domain_labels_16k.csv',index=False)"
   ]
  },
  {
   "cell_type": "code",
   "execution_count": null,
   "id": "1b2dc4ba-e174-4e53-b69f-77e6e14a3c64",
   "metadata": {},
   "outputs": [],
   "source": []
  }
 ],
 "metadata": {
  "kernelspec": {
   "display_name": "Python 3 (ipykernel)",
   "language": "python",
   "name": "python3"
  },
  "language_info": {
   "codemirror_mode": {
    "name": "ipython",
    "version": 3
   },
   "file_extension": ".py",
   "mimetype": "text/x-python",
   "name": "python",
   "nbconvert_exporter": "python",
   "pygments_lexer": "ipython3",
   "version": "3.11.5"
  }
 },
 "nbformat": 4,
 "nbformat_minor": 5
}
