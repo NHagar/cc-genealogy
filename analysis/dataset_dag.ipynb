{
 "cells": [
  {
   "cell_type": "code",
   "execution_count": 2,
   "metadata": {},
   "outputs": [],
   "source": [
    "import duckdb\n",
    "from tqdm import tqdm\n",
    "import pandas as pd"
   ]
  },
  {
   "cell_type": "code",
   "execution_count": 3,
   "metadata": {},
   "outputs": [],
   "source": [
    "con = duckdb.connect(\"../data/readmes.db\")"
   ]
  },
  {
   "cell_type": "code",
   "execution_count": 4,
   "metadata": {},
   "outputs": [],
   "source": [
    "df = con.execute(\"SELECT DISTINCT * FROM readmes WHERE readme != '' \").fetchdf()"
   ]
  },
  {
   "cell_type": "code",
   "execution_count": 44,
   "metadata": {},
   "outputs": [],
   "source": [
    "ds_names = con.execute(\"SELECT id, name FROM datasets\").fetchdf()"
   ]
  },
  {
   "cell_type": "code",
   "execution_count": 46,
   "metadata": {},
   "outputs": [],
   "source": [
    "ds_names = ds_names.drop_duplicates(subset=\"name\")"
   ]
  },
  {
   "cell_type": "code",
   "execution_count": null,
   "metadata": {},
   "outputs": [
    {
     "name": "stderr",
     "output_type": "stream",
     "text": [
      "18374it [1:55:33,  2.65it/s]\n"
     ]
    }
   ],
   "source": [
    "mentions = []\n",
    "\n",
    "for _, row in tqdm(df.iterrows()):\n",
    "    mentioned = []\n",
    "    rmd = row.readme.lower()\n",
    "    for _, n in ds_names.iterrows():\n",
    "        if n[\"name\"].lower() in rmd:\n",
    "            mentioned.append(n.id)\n",
    "    if \"cc-main\" in rmd or \"common crawl\" in rmd or \"commoncrawl\" in rmd:\n",
    "        mentioned.append(\"commoncrawl\")\n",
    "    mentions.append(mentioned)"
   ]
  },
  {
   "cell_type": "code",
   "execution_count": 58,
   "metadata": {},
   "outputs": [],
   "source": [
    "df[\"mentioned\"] = mentions\n",
    "df.to_parquet(\"../data/mentions.parquet\")\n",
    "df.to_csv(\"../data/mentions.csv\")"
   ]
  },
  {
   "cell_type": "code",
   "execution_count": 66,
   "metadata": {},
   "outputs": [],
   "source": [
    "df[\"mentioned_cc\"] = df.readme.str.lower().str.contains(\"commoncrawl\") | df.readme.str.lower().str.contains(\"common crawl\") | df.readme.str.lower().str.contains(\"cc-main\")"
   ]
  },
  {
   "cell_type": "code",
   "execution_count": 72,
   "metadata": {},
   "outputs": [],
   "source": [
    "df[df[\"mentioned_cc\"]][[\"id\"]].to_csv(\"../data/mentions_cc.csv\", index=False)"
   ]
  },
  {
   "cell_type": "markdown",
   "metadata": {},
   "source": [
    "# Processed"
   ]
  },
  {
   "cell_type": "code",
   "execution_count": 8,
   "metadata": {},
   "outputs": [],
   "source": [
    "df = pd.read_parquet(\"../data/mentions.parquet\")"
   ]
  },
  {
   "cell_type": "code",
   "execution_count": 9,
   "metadata": {},
   "outputs": [],
   "source": [
    "cc_filtered = pd.read_csv(\"../data/mentions_cc_filtered.csv\")"
   ]
  },
  {
   "cell_type": "code",
   "execution_count": 10,
   "metadata": {},
   "outputs": [
    {
     "data": {
      "text/html": [
       "<div>\n",
       "<style scoped>\n",
       "    .dataframe tbody tr th:only-of-type {\n",
       "        vertical-align: middle;\n",
       "    }\n",
       "\n",
       "    .dataframe tbody tr th {\n",
       "        vertical-align: top;\n",
       "    }\n",
       "\n",
       "    .dataframe thead th {\n",
       "        text-align: right;\n",
       "    }\n",
       "</style>\n",
       "<table border=\"1\" class=\"dataframe\">\n",
       "  <thead>\n",
       "    <tr style=\"text-align: right;\">\n",
       "      <th></th>\n",
       "      <th>id</th>\n",
       "    </tr>\n",
       "  </thead>\n",
       "  <tbody>\n",
       "    <tr>\n",
       "      <th>0</th>\n",
       "      <td>tiiuae/falcon-refinedweb</td>\n",
       "    </tr>\n",
       "    <tr>\n",
       "      <th>1</th>\n",
       "      <td>cis-lmu/GlotCC-V1</td>\n",
       "    </tr>\n",
       "    <tr>\n",
       "      <th>2</th>\n",
       "      <td>PleIAs/common_corpus</td>\n",
       "    </tr>\n",
       "    <tr>\n",
       "      <th>3</th>\n",
       "      <td>erhwenkuo/c4-chinese-zhtw</td>\n",
       "    </tr>\n",
       "    <tr>\n",
       "      <th>4</th>\n",
       "      <td>eduagarcia/CrawlPT_dedup</td>\n",
       "    </tr>\n",
       "    <tr>\n",
       "      <th>5</th>\n",
       "      <td>HuggingFaceFW/fineweb-2</td>\n",
       "    </tr>\n",
       "    <tr>\n",
       "      <th>6</th>\n",
       "      <td>togethercomputer/RedPajama-Data-1T-Sample</td>\n",
       "    </tr>\n",
       "    <tr>\n",
       "      <th>7</th>\n",
       "      <td>ontocord/CulturaY</td>\n",
       "    </tr>\n",
       "    <tr>\n",
       "      <th>8</th>\n",
       "      <td>mlfoundations/dclm-baseline-1.0-parquet</td>\n",
       "    </tr>\n",
       "    <tr>\n",
       "      <th>9</th>\n",
       "      <td>ontocord/fineweb-permissive-multilingual-2m</td>\n",
       "    </tr>\n",
       "    <tr>\n",
       "      <th>10</th>\n",
       "      <td>vblagoje/cc_news</td>\n",
       "    </tr>\n",
       "    <tr>\n",
       "      <th>11</th>\n",
       "      <td>ClusterlabAi/101_billion_arabic_words_dataset</td>\n",
       "    </tr>\n",
       "    <tr>\n",
       "      <th>12</th>\n",
       "      <td>HuggingFaceFW/fineweb-edu</td>\n",
       "    </tr>\n",
       "    <tr>\n",
       "      <th>13</th>\n",
       "      <td>HuggingFaceTB/finemath</td>\n",
       "    </tr>\n",
       "    <tr>\n",
       "      <th>14</th>\n",
       "      <td>open-web-math/open-web-math</td>\n",
       "    </tr>\n",
       "    <tr>\n",
       "      <th>15</th>\n",
       "      <td>RichNachos/georgian-corpus</td>\n",
       "    </tr>\n",
       "    <tr>\n",
       "      <th>16</th>\n",
       "      <td>epfml/FineWeb2-HQ</td>\n",
       "    </tr>\n",
       "    <tr>\n",
       "      <th>17</th>\n",
       "      <td>allenai/c4</td>\n",
       "    </tr>\n",
       "    <tr>\n",
       "      <th>18</th>\n",
       "      <td>togethercomputer/RedPajama-Data-1T</td>\n",
       "    </tr>\n",
       "    <tr>\n",
       "      <th>19</th>\n",
       "      <td>Chrisneverdie/OnlySports_Dataset</td>\n",
       "    </tr>\n",
       "    <tr>\n",
       "      <th>20</th>\n",
       "      <td>HPLT/HPLT2.0_cleaned</td>\n",
       "    </tr>\n",
       "    <tr>\n",
       "      <th>21</th>\n",
       "      <td>agentlans/common-crawl-sample</td>\n",
       "    </tr>\n",
       "    <tr>\n",
       "      <th>22</th>\n",
       "      <td>OpenLLM-France/Lucie-Training-Dataset</td>\n",
       "    </tr>\n",
       "    <tr>\n",
       "      <th>23</th>\n",
       "      <td>HuggingFaceFW/fineweb</td>\n",
       "    </tr>\n",
       "    <tr>\n",
       "      <th>24</th>\n",
       "      <td>Infi-MM/InfiMM-WebMath-40B</td>\n",
       "    </tr>\n",
       "    <tr>\n",
       "      <th>25</th>\n",
       "      <td>bertin-project/mc4-es-sampled</td>\n",
       "    </tr>\n",
       "    <tr>\n",
       "      <th>26</th>\n",
       "      <td>projecte-aina/CATalog</td>\n",
       "    </tr>\n",
       "    <tr>\n",
       "      <th>27</th>\n",
       "      <td>statmt/cc100</td>\n",
       "    </tr>\n",
       "    <tr>\n",
       "      <th>28</th>\n",
       "      <td>faur-ai/fulg</td>\n",
       "    </tr>\n",
       "    <tr>\n",
       "      <th>29</th>\n",
       "      <td>oscar-corpus/oscar</td>\n",
       "    </tr>\n",
       "    <tr>\n",
       "      <th>30</th>\n",
       "      <td>togethercomputer/RedPajama-Data-V2</td>\n",
       "    </tr>\n",
       "    <tr>\n",
       "      <th>31</th>\n",
       "      <td>yhavinga/mc4_nl_cleaned</td>\n",
       "    </tr>\n",
       "    <tr>\n",
       "      <th>32</th>\n",
       "      <td>allenai/dolma</td>\n",
       "    </tr>\n",
       "    <tr>\n",
       "      <th>33</th>\n",
       "      <td>gsarti/clean_mc4_it</td>\n",
       "    </tr>\n",
       "    <tr>\n",
       "      <th>34</th>\n",
       "      <td>allenai/MADLAD-400</td>\n",
       "    </tr>\n",
       "    <tr>\n",
       "      <th>35</th>\n",
       "      <td>LLM360/TxT360</td>\n",
       "    </tr>\n",
       "  </tbody>\n",
       "</table>\n",
       "</div>"
      ],
      "text/plain": [
       "                                               id\n",
       "0                        tiiuae/falcon-refinedweb\n",
       "1                               cis-lmu/GlotCC-V1\n",
       "2                            PleIAs/common_corpus\n",
       "3                       erhwenkuo/c4-chinese-zhtw\n",
       "4                        eduagarcia/CrawlPT_dedup\n",
       "5                         HuggingFaceFW/fineweb-2\n",
       "6       togethercomputer/RedPajama-Data-1T-Sample\n",
       "7                               ontocord/CulturaY\n",
       "8         mlfoundations/dclm-baseline-1.0-parquet\n",
       "9     ontocord/fineweb-permissive-multilingual-2m\n",
       "10                               vblagoje/cc_news\n",
       "11  ClusterlabAi/101_billion_arabic_words_dataset\n",
       "12                      HuggingFaceFW/fineweb-edu\n",
       "13                         HuggingFaceTB/finemath\n",
       "14                    open-web-math/open-web-math\n",
       "15                     RichNachos/georgian-corpus\n",
       "16                              epfml/FineWeb2-HQ\n",
       "17                                     allenai/c4\n",
       "18             togethercomputer/RedPajama-Data-1T\n",
       "19               Chrisneverdie/OnlySports_Dataset\n",
       "20                           HPLT/HPLT2.0_cleaned\n",
       "21                  agentlans/common-crawl-sample\n",
       "22          OpenLLM-France/Lucie-Training-Dataset\n",
       "23                          HuggingFaceFW/fineweb\n",
       "24                     Infi-MM/InfiMM-WebMath-40B\n",
       "25                  bertin-project/mc4-es-sampled\n",
       "26                          projecte-aina/CATalog\n",
       "27                                   statmt/cc100\n",
       "28                                   faur-ai/fulg\n",
       "29                             oscar-corpus/oscar\n",
       "30             togethercomputer/RedPajama-Data-V2\n",
       "31                        yhavinga/mc4_nl_cleaned\n",
       "32                                  allenai/dolma\n",
       "33                            gsarti/clean_mc4_it\n",
       "34                             allenai/MADLAD-400\n",
       "35                                  LLM360/TxT360"
      ]
     },
     "execution_count": 10,
     "metadata": {},
     "output_type": "execute_result"
    }
   ],
   "source": [
    "cc_filtered"
   ]
  },
  {
   "cell_type": "code",
   "execution_count": 26,
   "metadata": {},
   "outputs": [],
   "source": [
    "# Find datasets that mention CC datasets but aren't in the CC filtered list themselves\n",
    "# and also aren't already in the mentions_cc.csv file\n",
    "cc_mentions = pd.read_csv(\"../data/mentions_cc.csv\")[\"id\"]\n",
    "filtered_df = df[\n",
    "    df.mentioned.apply(lambda x: any(cc_id in x for cc_id in cc_filtered[\"id\"])) & \n",
    "    ~df[\"id\"].isin(cc_filtered[\"id\"]) & \n",
    "    ~df[\"id\"].isin(cc_mentions)\n",
    "][[\"id\"]]\n",
    "\n",
    "filtered_df.to_csv(\"../data/mentions_depth_1.csv\", index=False)"
   ]
  },
  {
   "cell_type": "code",
   "execution_count": null,
   "metadata": {},
   "outputs": [],
   "source": []
  }
 ],
 "metadata": {
  "kernelspec": {
   "display_name": ".venv",
   "language": "python",
   "name": "python3"
  },
  "language_info": {
   "codemirror_mode": {
    "name": "ipython",
    "version": 3
   },
   "file_extension": ".py",
   "mimetype": "text/x-python",
   "name": "python",
   "nbconvert_exporter": "python",
   "pygments_lexer": "ipython3",
   "version": "3.12.4"
  }
 },
 "nbformat": 4,
 "nbformat_minor": 2
}
