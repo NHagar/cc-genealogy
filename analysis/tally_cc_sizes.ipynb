{
 "cells": [
  {
   "cell_type": "code",
   "execution_count": 1,
   "metadata": {},
   "outputs": [],
   "source": [
    "with open(\"../data/sizes.txt\", \"r\") as f:\n",
    "    sizes = f.readlines()\n",
    "    sizes = [float(size) for size in sizes]"
   ]
  },
  {
   "cell_type": "code",
   "execution_count": 2,
   "metadata": {},
   "outputs": [
    {
     "name": "stdout",
     "output_type": "stream",
     "text": [
      "Median size: 3.0\n",
      "Total size: 311.5\n"
     ]
    }
   ],
   "source": [
    "import statistics\n",
    "\n",
    "median_size = statistics.median(sizes)\n",
    "total_size = sum(sizes)\n",
    "print(f\"Median size: {median_size}\")\n",
    "print(f\"Total size: {total_size}\")"
   ]
  },
  {
   "cell_type": "code",
   "execution_count": null,
   "metadata": {},
   "outputs": [],
   "source": []
  }
 ],
 "metadata": {
  "kernelspec": {
   "display_name": "cc",
   "language": "python",
   "name": "python3"
  },
  "language_info": {
   "codemirror_mode": {
    "name": "ipython",
    "version": 3
   },
   "file_extension": ".py",
   "mimetype": "text/x-python",
   "name": "python",
   "nbconvert_exporter": "python",
   "pygments_lexer": "ipython3",
   "version": "3.12.4"
  }
 },
 "nbformat": 4,
 "nbformat_minor": 2
}
