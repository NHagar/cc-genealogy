{
 "cells": [
  {
   "cell_type": "code",
   "execution_count": 2,
   "metadata": {},
   "outputs": [],
   "source": [
    "from pathlib import Path\n",
    "\n",
    "import duckdb"
   ]
  },
  {
   "cell_type": "code",
   "execution_count": 9,
   "metadata": {},
   "outputs": [],
   "source": [
    "con = duckdb.connect(database=':memory:')"
   ]
  },
  {
   "cell_type": "markdown",
   "metadata": {},
   "source": [
    "# Relative prevalence across datasets"
   ]
  },
  {
   "cell_type": "code",
   "execution_count": 7,
   "metadata": {},
   "outputs": [],
   "source": [
    "consolidated_paths = list(Path(\"../consolidated_data_files\").rglob(\"*.parquet\"))"
   ]
  },
  {
   "cell_type": "code",
   "execution_count": 17,
   "metadata": {},
   "outputs": [
    {
     "name": "stdout",
     "output_type": "stream",
     "text": [
      "../consolidated_data_files/uonlp_CulturaX_*/consolidated.parquet: 0.03410227299687635%\n",
      "../consolidated_data_files/allenai_c4_en/consolidated.parquet: 0.04667452465340666%\n",
      "../consolidated_data_files/dolma/consolidated.parquet: 0.06027571835740057%\n",
      "../consolidated_data_files/HuggingFaceFW_fineweb-edu_data_*/consolidated.parquet: 0.08615820473162569%\n",
      "../consolidated_data_files/tiiuae_falcon-refinedweb_data/consolidated.parquet: 0.07449813934145445%\n"
     ]
    }
   ],
   "source": [
    "for p in consolidated_paths:\n",
    "    prevalence = con.execute(f\"\"\"SELECT SUM(\"count\") FROM '{p}' WHERE CONTAINS(domain,'nytimes.com') \"\"\").fetchone()\n",
    "    total = con.execute(f\"\"\"SELECT SUM(\"count\") FROM '{p}'\"\"\").fetchone()\n",
    "    prevalence = prevalence[0] / total[0] * 100\n",
    "    print(f\"{p}: {prevalence}%\")"
   ]
  },
  {
   "cell_type": "markdown",
   "metadata": {},
   "source": [
    "# Constituent URLs"
   ]
  },
  {
   "cell_type": "code",
   "execution_count": null,
   "metadata": {},
   "outputs": [],
   "source": [
    "test_query = \"\"\"SELECT\n",
    "    metadata.url\n",
    "FROM\n",
    "    READ_JSON('https://olmo-data.org/dolma-v1_7/c4-filtered/c4-0000.json.gz')\n",
    "WHERE CONTAINS(metadata.url, 'nytimes.com')\"\"\"\n",
    "\n",
    "print(con.execute(test_query).fetchall())"
   ]
  },
  {
   "cell_type": "code",
   "execution_count": null,
   "metadata": {},
   "outputs": [],
   "source": []
  }
 ],
 "metadata": {
  "kernelspec": {
   "display_name": "cc",
   "language": "python",
   "name": "python3"
  },
  "language_info": {
   "codemirror_mode": {
    "name": "ipython",
    "version": 3
   },
   "file_extension": ".py",
   "mimetype": "text/x-python",
   "name": "python",
   "nbconvert_exporter": "python",
   "pygments_lexer": "ipython3",
   "version": "3.12.4"
  }
 },
 "nbformat": 4,
 "nbformat_minor": 2
}
