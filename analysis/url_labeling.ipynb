{
 "cells": [
  {
   "cell_type": "code",
   "execution_count": 70,
   "metadata": {},
   "outputs": [],
   "source": [
    "import json\n",
    "import re\n",
    "\n",
    "import duckdb\n",
    "from openai import OpenAI\n",
    "from sklearn.metrics import accuracy_score, precision_score, recall_score, f1_score"
   ]
  },
  {
   "cell_type": "code",
   "execution_count": 58,
   "metadata": {},
   "outputs": [],
   "source": [
    "con = duckdb.connect()"
   ]
  },
  {
   "cell_type": "code",
   "execution_count": 59,
   "metadata": {},
   "outputs": [],
   "source": [
    "q = \"SELECT url FROM 'hf://datasets/nhagar/falcon_urls/data/train-00024-of-00170.parquet' LIMIT 100\""
   ]
  },
  {
   "cell_type": "code",
   "execution_count": 60,
   "metadata": {},
   "outputs": [],
   "source": [
    "samp = con.execute(q).fetchdf()"
   ]
  },
  {
   "cell_type": "code",
   "execution_count": 61,
   "metadata": {},
   "outputs": [],
   "source": [
    "samp[\"is_news\"] = 0"
   ]
  },
  {
   "cell_type": "code",
   "execution_count": 12,
   "metadata": {},
   "outputs": [],
   "source": [
    "samp.to_csv(\"../data/falcon_urls_sample.csv\", index=False)"
   ]
  },
  {
   "cell_type": "code",
   "execution_count": 62,
   "metadata": {},
   "outputs": [],
   "source": [
    "samp_labeled = con.execute(\"SELECT * FROM '../data/falcon_urls_sample.csv'\").fetchdf()"
   ]
  },
  {
   "cell_type": "code",
   "execution_count": 63,
   "metadata": {},
   "outputs": [],
   "source": [
    "prompt = \"\"\"Classify whether a given URL points to a news website from a journalistic publisher or not.\n",
    "\n",
    "Carefully consider if the website is recognized for publishing news:\n",
    "- National sources: e.g., The New York Times.\n",
    "- Local sources: e.g., NBC Connecticut.\n",
    "- International sources: e.g., The Guardian.\n",
    "\n",
    "Websites that should not be classified as news include:\n",
    "- Personal blogs\n",
    "- Real estate listings\n",
    "- Food blogs\n",
    "- Hobbyist forums\n",
    "\n",
    "These may appear news-like but are not categorized as news sites.\n",
    "\n",
    "# Steps\n",
    "\n",
    "1. **Identify the Publisher**: Extract and identify the main domain of the URL to understand the source.\n",
    "2. **Knowledge Check**: Cross-reference the main domain with known lists or databases of news sources.\n",
    "3. **Evaluate Content Type**: If the publisher is not readily identified or ambiguous, evaluate the nature of the content in the URL, to infer whether it is a news story.\n",
    "4. **Conclusion**: Determine if the website is a news site from a journalistic publisher or not.\n",
    "\n",
    "# Output Format\n",
    "\n",
    "Provide the classification in the form of a JSON:\n",
    "```json\n",
    "{\n",
    "  \"url\": \"[URL]\",\n",
    "  \"is_news\": [true/false],\n",
    "  \"reason\": \"[Brief explanation of the decision]\"\n",
    "}\n",
    "```\n",
    "\n",
    "# Examples\n",
    "\n",
    "**Example 1**  \n",
    "- **Input**: `https://www.nytimes.com`\n",
    "- **Output**: \n",
    "```json\n",
    "{\n",
    "  \"url\": \"https://www.nytimes.com\",\n",
    "  \"is_news\": true,\n",
    "  \"reason\": \"The URL is for The New York Times, a well-known national news publisher.\"\n",
    "}\n",
    "```\n",
    "\n",
    "**Example 2**  \n",
    "- **Input**: `https://www.joesblogaboutgardening.com`\n",
    "- **Output**:\n",
    "```json\n",
    "{\n",
    "  \"url\": \"https://www.joesblogaboutgardening.com\",\n",
    "  \"is_news\": false,\n",
    "  \"reason\": \"The URL is for a personal blog about gardening, not a reputable news publisher.\"\n",
    "}\n",
    "```\n",
    "\n",
    "# Notes\n",
    "\n",
    "- Pay close attention to subdomains which might reflect news sections of larger non-news websites.\n",
    "- Stay mindful of masquerading sites, which attempt to resemble reputable news publishers.\n",
    "\"\"\""
   ]
  },
  {
   "cell_type": "code",
   "execution_count": 64,
   "metadata": {},
   "outputs": [],
   "source": [
    "llm = OpenAI(base_url=\"http://127.0.0.1:1234/v1\", api_key=\"lm-studio\")"
   ]
  },
  {
   "cell_type": "code",
   "execution_count": 76,
   "metadata": {},
   "outputs": [],
   "source": [
    "def classify_url(url, model):\n",
    "    resp = llm.chat.completions.create(\n",
    "        model=model,\n",
    "        messages=[\n",
    "            {\"role\": \"system\", \"content\": prompt},\n",
    "            {\"role\": \"user\", \"content\": url},\n",
    "        ],\n",
    "    )\n",
    "    txt = resp.choices[0].message.content\n",
    "\n",
    "    json_extract_pattern = re.compile(r\"```json\\n(.*?)\\n```\", re.DOTALL)\n",
    "    json_extract = json_extract_pattern.search(txt).group(1)\n",
    "\n",
    "    return json.loads(json_extract)"
   ]
  },
  {
   "cell_type": "code",
   "execution_count": 77,
   "metadata": {},
   "outputs": [],
   "source": [
    "models = [\n",
    "    \"llama-3.2-3b-instruct\",\n",
    "    \"qwen2.5-7b-instruct-1m\",\n",
    "    \"gemma-2-9b-it\"\n",
    "]"
   ]
  },
  {
   "cell_type": "code",
   "execution_count": 78,
   "metadata": {},
   "outputs": [],
   "source": [
    "results = {}\n",
    "for model in models:\n",
    "    samp_labeled[f\"{model}_label\"] = samp_labeled[\"url\"].apply(classify_url, model=model)\n",
    "    samp_labeled[f\"{model}_is_news\"] = samp_labeled[f\"{model}_label\"].apply(lambda x: x[\"is_news\"])\n",
    "    samp_labeled[f\"{model}_reason\"] = samp_labeled[f\"{model}_label\"].apply(lambda x: x[\"reason\"])\n",
    "    results[model] = {\n",
    "        \"accuracy\": accuracy_score(samp_labeled[\"is_news\"], samp_labeled[f\"{model}_is_news\"]),\n",
    "        \"precision\": precision_score(samp_labeled[\"is_news\"], samp_labeled[f\"{model}_is_news\"]),\n",
    "        \"recall\": recall_score(samp_labeled[\"is_news\"], samp_labeled[f\"{model}_is_news\"]),\n",
    "        \"f1\": f1_score(samp_labeled[\"is_news\"], samp_labeled[f\"{model}_is_news\"]),\n",
    "    }"
   ]
  },
  {
   "cell_type": "code",
   "execution_count": 81,
   "metadata": {},
   "outputs": [],
   "source": [
    "with open(\"../data/model_results.json\", \"w\") as f:\n",
    "    json.dump(results, f, indent=2)"
   ]
  },
  {
   "cell_type": "code",
   "execution_count": null,
   "metadata": {},
   "outputs": [],
   "source": []
  }
 ],
 "metadata": {
  "kernelspec": {
   "display_name": ".venv",
   "language": "python",
   "name": "python3"
  },
  "language_info": {
   "codemirror_mode": {
    "name": "ipython",
    "version": 3
   },
   "file_extension": ".py",
   "mimetype": "text/x-python",
   "name": "python",
   "nbconvert_exporter": "python",
   "pygments_lexer": "ipython3",
   "version": "3.12.4"
  }
 },
 "nbformat": 4,
 "nbformat_minor": 2
}
