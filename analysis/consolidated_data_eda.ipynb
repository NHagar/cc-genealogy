{
 "cells": [
  {
   "cell_type": "code",
   "execution_count": 3,
   "metadata": {},
   "outputs": [],
   "source": [
    "from pathlib import Path\n",
    "import duckdb"
   ]
  },
  {
   "cell_type": "code",
   "execution_count": 11,
   "metadata": {},
   "outputs": [],
   "source": [
    "con = duckdb.connect(database=':memory:', read_only=False)"
   ]
  },
  {
   "cell_type": "code",
   "execution_count": 4,
   "metadata": {},
   "outputs": [],
   "source": [
    "consolidated_paths = list(Path(\"../consolidated_data_files\").rglob(\"*.parquet\"))"
   ]
  },
  {
   "cell_type": "code",
   "execution_count": 19,
   "metadata": {},
   "outputs": [],
   "source": [
    "query_template = \"\"\"\n",
    "WITH total AS (\n",
    "    SELECT SUM(\"count\") as total_count \n",
    "    FROM '{fpath}'\n",
    ")\n",
    "SELECT \n",
    "    domain,\n",
    "    \"count\",\n",
    "    CAST(\"count\" AS DECIMAL) / CAST(total_count AS DECIMAL) as percentage\n",
    "FROM '{fpath}', total\n",
    "ORDER BY \"count\" DESC;\n",
    "\"\"\""
   ]
  },
  {
   "cell_type": "code",
   "execution_count": 29,
   "metadata": {},
   "outputs": [],
   "source": [
    "thresholds = [10, 100, 500, 1000, 10000, 100000]"
   ]
  },
  {
   "cell_type": "code",
   "execution_count": null,
   "metadata": {},
   "outputs": [
    {
     "name": "stdout",
     "output_type": "stream",
     "text": [
      "../consolidated_data_files/uonlp_CulturaX_*/consolidated.parquet\n",
      "=====\n",
      "Domains with >= 10 records: 34431256\n",
      "Domains with >= 100 records: 7216610\n",
      "Domains with >= 500 records: 1738287\n",
      "Domains with >= 1000 records: 843826\n",
      "Domains with >= 10000 records: 57434\n",
      "Domains with >= 100000 records: 2925\n",
      "\n",
      "\n",
      "\n",
      "gaurdain.com: 1626820.0 records, 0.0002265810620678351 percentage\n",
      "\n",
      "\n",
      "\n",
      "../consolidated_data_files/allenai_c4_en/consolidated.parquet\n",
      "=====\n",
      "Domains with >= 10 records: 4479830\n",
      "Domains with >= 100 records: 554587\n",
      "Domains with >= 500 records: 80056\n",
      "Domains with >= 1000 records: 33584\n",
      "Domains with >= 10000 records: 958\n",
      "Domains with >= 100000 records: 6\n",
      "\n",
      "\n",
      "\n",
      "gaurdain.com: 133811.0 records, 0.0003663711023222131 percentage\n",
      "\n",
      "\n",
      "\n",
      "../consolidated_data_files/dolma/consolidated.parquet\n",
      "=====\n",
      "Domains with >= 10 records: 2330\n",
      "Domains with >= 100 records: 26\n",
      "Domains with >= 500 records: 0\n",
      "Domains with >= 1000 records: 0\n",
      "Domains with >= 10000 records: 0\n",
      "Domains with >= 100000 records: 0\n",
      "\n",
      "\n",
      "\n",
      "gaurdain.com: 225.0 records, 0.0004843584510862545 percentage\n",
      "\n",
      "\n",
      "\n",
      "../consolidated_data_files/HuggingFaceFW_fineweb-edu_data_*/consolidated.parquet\n",
      "=====\n",
      "Domains with >= 10 records: 5818947\n",
      "Domains with >= 100 records: 1218539\n",
      "Domains with >= 500 records: 287897\n",
      "Domains with >= 1000 records: 141300\n",
      "Domains with >= 10000 records: 11677\n",
      "Domains with >= 100000 records: 778\n",
      "\n",
      "\n",
      "\n",
      "gaurdain.com: 1286017.0 records, 0.0010054018668230206 percentage\n",
      "\n",
      "\n",
      "\n",
      "../consolidated_data_files/tiiuae_falcon-refinedweb_data/consolidated.parquet\n",
      "=====\n",
      "Domains with >= 10 records: 8033617\n",
      "Domains with >= 100 records: 1272372\n",
      "Domains with >= 500 records: 194075\n",
      "Domains with >= 1000 records: 86174\n",
      "Domains with >= 10000 records: 7080\n",
      "Domains with >= 100000 records: 322\n",
      "\n",
      "\n",
      "\n",
      "gaurdain.com: 815296.0 records, 0.0008422479208329351 percentage\n",
      "\n",
      "\n",
      "\n"
     ]
    }
   ],
   "source": [
    "for fpath in consolidated_paths:\n",
    "    print(fpath)\n",
    "    print(\"=====\")\n",
    "    df = con.execute(query_template.format(fpath=fpath)).fetch_df()\n",
    "    for threshold in thresholds:\n",
    "        print(f\"Domains with >= {threshold} records: {df[df['count'] >= threshold].shape[0]}\")\n",
    "\n",
    "    nytimes = df[df[\"domain\"].str.contains(\"nytimes.com\")]\n",
    "    print(f\"nytimes.com: {nytimes['count'].sum()} records, {nytimes['percentage'].sum()} percentage\")\n",
    "    print(\"\\n\\n\")"
   ]
  },
  {
   "cell_type": "code",
   "execution_count": null,
   "metadata": {},
   "outputs": [],
   "source": []
  }
 ],
 "metadata": {
  "kernelspec": {
   "display_name": "cc",
   "language": "python",
   "name": "python3"
  },
  "language_info": {
   "codemirror_mode": {
    "name": "ipython",
    "version": 3
   },
   "file_extension": ".py",
   "mimetype": "text/x-python",
   "name": "python",
   "nbconvert_exporter": "python",
   "pygments_lexer": "ipython3",
   "version": "3.12.4"
  }
 },
 "nbformat": 4,
 "nbformat_minor": 2
}
