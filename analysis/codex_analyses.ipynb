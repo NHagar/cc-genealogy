{
 "cells": [
  {
   "cell_type": "code",
   "execution_count": 1,
   "metadata": {},
   "outputs": [
    {
     "name": "stderr",
     "output_type": "stream",
     "text": [
      "/Users/nrh146/Documents/cc-genealogy/.venv/lib/python3.12/site-packages/tqdm/auto.py:21: TqdmWarning: IProgress not found. Please update jupyter and ipywidgets. See https://ipywidgets.readthedocs.io/en/stable/user_install.html\n",
      "  from .autonotebook import tqdm as notebook_tqdm\n"
     ]
    }
   ],
   "source": [
    "from collections import Counter\n",
    "\n",
    "from datasets import load_dataset\n",
    "from tqdm import tqdm"
   ]
  },
  {
   "cell_type": "code",
   "execution_count": 2,
   "metadata": {},
   "outputs": [],
   "source": [
    "ds = load_dataset(\n",
    "    \"nhagar/c4_urls_en\",\n",
    ")"
   ]
  },
  {
   "cell_type": "markdown",
   "metadata": {},
   "source": [
    "# Top sites"
   ]
  },
  {
   "cell_type": "code",
   "execution_count": 3,
   "metadata": {},
   "outputs": [],
   "source": [
    "def get_top_n_sites(dataset, n=20):\n",
    "    counter = Counter()\n",
    "    for batch in tqdm(dataset.iter(batch_size=10_000), total=dataset.num_rows // 10_000):\n",
    "        counter.update(batch[\"domain\"])\n",
    "    \n",
    "    return counter.most_common(n)"
   ]
  },
  {
   "cell_type": "code",
   "execution_count": 4,
   "metadata": {},
   "outputs": [
    {
     "name": "stderr",
     "output_type": "stream",
     "text": [
      "36487it [08:47, 69.11it/s]                           \n"
     ]
    },
    {
     "name": "stdout",
     "output_type": "stream",
     "text": [
      "Top 20 sites in C4:\n",
      "blogspot.com: 4576497\n",
      "wordpress.com: 4125704\n",
      "weebly.com: 483941\n",
      "wikipedia.org: 353633\n",
      "fanpop.com: 287426\n",
      "livejournal.com: 253547\n",
      "stackexchange.com: 219556\n",
      "tripod.com: 217419\n",
      "typepad.com: 213164\n",
      "google.com: 209826\n",
      "forumotion.com: 200420\n",
      "reuters.com: 175151\n",
      "yahoo.com: 174477\n",
      "nytimes.com: 169965\n",
      "b00kmedia.ru: 163084\n",
      "thefreedictionary.com: 154103\n",
      "fandom.com: 150738\n",
      "indiatimes.com: 146598\n",
      "latimes.com: 143282\n",
      "microsoft.com: 137602\n"
     ]
    }
   ],
   "source": [
    "topn = get_top_n_sites(ds[\"train\"], 20)\n",
    "print(\"Top 20 sites in C4:\")\n",
    "for site, count in topn:\n",
    "    print(f\"{site}: {count}\")"
   ]
  },
  {
   "cell_type": "markdown",
   "metadata": {},
   "source": [
    "# NYT proportion - total"
   ]
  },
  {
   "cell_type": "code",
   "execution_count": 5,
   "metadata": {},
   "outputs": [],
   "source": [
    "def filter_domains(batch):\n",
    "    domains = batch[\"domain\"]\n",
    "    return [domain==\"nytimes.com\" for domain in domains]"
   ]
  },
  {
   "cell_type": "code",
   "execution_count": 6,
   "metadata": {},
   "outputs": [
    {
     "name": "stdout",
     "output_type": "stream",
     "text": [
      "NYT slice size: 169965 (pct: 0.05%)\n"
     ]
    }
   ],
   "source": [
    "nyt_slice = ds[\"train\"].filter(\n",
    "    filter_domains,\n",
    "    batched=True,\n",
    "    batch_size=10_000,\n",
    "    num_proc=4,\n",
    ")\n",
    "\n",
    "print(f\"NYT slice size: {nyt_slice.num_rows} (pct: {nyt_slice.num_rows / ds['train'].num_rows:.2%})\")"
   ]
  },
  {
   "cell_type": "markdown",
   "metadata": {},
   "source": [
    "# NYT proportion - sections and time"
   ]
  },
  {
   "cell_type": "markdown",
   "metadata": {},
   "source": [
    "## Preprocessing"
   ]
  },
  {
   "cell_type": "code",
   "execution_count": 7,
   "metadata": {},
   "outputs": [],
   "source": [
    "def extract_date_and_section(batch):\n",
    "    urls = batch[\"url\"]\n",
    "    dates = []\n",
    "    sections = []\n",
    "    for url in urls:\n",
    "        try:\n",
    "            pathsplit = url.split(\".com/\")[-1].split(\"/\")\n",
    "            date = \"-\".join(pathsplit[0:3])\n",
    "            section = pathsplit[3]\n",
    "            dates.append(date)\n",
    "            sections.append(section)\n",
    "        except Exception as e:\n",
    "            dates.append(None)\n",
    "            sections.append(None)\n",
    "    batch[\"date\"] = dates\n",
    "    batch[\"section\"] = sections\n",
    "    return batch"
   ]
  },
  {
   "cell_type": "code",
   "execution_count": 8,
   "metadata": {},
   "outputs": [
    {
     "name": "stderr",
     "output_type": "stream",
     "text": [
      "Map (num_proc=4): 100%|██████████| 169965/169965 [00:54<00:00, 3092.48 examples/s] \n"
     ]
    }
   ],
   "source": [
    "nyt_slice = nyt_slice.map(\n",
    "    extract_date_and_section,\n",
    "    batched=True,\n",
    "    batch_size=10_000,\n",
    "    num_proc=4,\n",
    ")"
   ]
  },
  {
   "cell_type": "markdown",
   "metadata": {},
   "source": [
    "## Section analysis"
   ]
  },
  {
   "cell_type": "code",
   "execution_count": null,
   "metadata": {},
   "outputs": [],
   "source": []
  },
  {
   "cell_type": "code",
   "execution_count": null,
   "metadata": {},
   "outputs": [],
   "source": []
  },
  {
   "cell_type": "markdown",
   "metadata": {},
   "source": [
    "## Time analysis"
   ]
  },
  {
   "cell_type": "code",
   "execution_count": null,
   "metadata": {},
   "outputs": [],
   "source": []
  },
  {
   "cell_type": "code",
   "execution_count": null,
   "metadata": {},
   "outputs": [],
   "source": []
  },
  {
   "cell_type": "code",
   "execution_count": null,
   "metadata": {},
   "outputs": [],
   "source": []
  }
 ],
 "metadata": {
  "kernelspec": {
   "display_name": ".venv",
   "language": "python",
   "name": "python3"
  },
  "language_info": {
   "codemirror_mode": {
    "name": "ipython",
    "version": 3
   },
   "file_extension": ".py",
   "mimetype": "text/x-python",
   "name": "python",
   "nbconvert_exporter": "python",
   "pygments_lexer": "ipython3",
   "version": "3.12.4"
  }
 },
 "nbformat": 4,
 "nbformat_minor": 2
}
