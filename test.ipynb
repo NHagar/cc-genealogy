{
 "cells": [
  {
   "cell_type": "code",
   "execution_count": 20,
   "id": "fc034cc8",
   "metadata": {},
   "outputs": [],
   "source": [
    "import subprocess\n",
    "\n",
    "from huggingface_hub import HfApi"
   ]
  },
  {
   "cell_type": "code",
   "execution_count": 21,
   "id": "e12bf3f2",
   "metadata": {},
   "outputs": [],
   "source": [
    "api = HfApi()"
   ]
  },
  {
   "cell_type": "code",
   "execution_count": 22,
   "id": "6cec4004",
   "metadata": {},
   "outputs": [],
   "source": [
    "repo_files = api.list_repo_tree(\n",
    "        \"allenai/c4\",\n",
    "        repo_type=\"dataset\",\n",
    "        recursive=True,\n",
    "    )"
   ]
  },
  {
   "cell_type": "code",
   "execution_count": 23,
   "id": "2dafde87",
   "metadata": {},
   "outputs": [],
   "source": [
    "repo_files = list(repo_files)"
   ]
  },
  {
   "cell_type": "code",
   "execution_count": 24,
   "id": "f92c5f56",
   "metadata": {},
   "outputs": [
    {
     "data": {
      "text/plain": [
       "'en.noblocklist/c4-train.00093-of-01024.json.gz'"
      ]
     },
     "execution_count": 24,
     "metadata": {},
     "output_type": "execute_result"
    }
   ],
   "source": [
    "repo_files[100].path"
   ]
  },
  {
   "cell_type": "code",
   "execution_count": 25,
   "id": "73e10ed2",
   "metadata": {},
   "outputs": [],
   "source": [
    "test_download_urls = [\n",
    "    \"https://huggingface.co/datasets/allenai/c4/resolve/main/\" + i.path\n",
    "    for i in repo_files[:50]\n",
    "]"
   ]
  },
  {
   "cell_type": "code",
   "execution_count": 26,
   "id": "f3fa2440",
   "metadata": {},
   "outputs": [],
   "source": [
    "with open(\"test_urls.txt\", \"w\") as f:\n",
    "    for url in test_download_urls:\n",
    "        f.write(url + \"\\n\")"
   ]
  },
  {
   "cell_type": "code",
   "execution_count": 29,
   "id": "e2e94e36",
   "metadata": {},
   "outputs": [
    {
     "name": "stdout",
     "output_type": "stream",
     "text": [
      "Return code: 3\n",
      "Stdout: \n",
      "04/09 13:46:31 [\u001b[1;31mERROR\u001b[0m] CUID#10 - Download aborted. URI=https://huggingface.co/datasets/allenai/c4/resolve/main/multilingual\n",
      "Exception: [AbstractCommand.cc:351] errorCode=3 URI=https://huggingface.co/datasets/allenai/c4/resolve/main/multilingual\n",
      "  -> [HttpSkipResponseCommand.cc:219] errorCode=3 Resource not found\n",
      "\n",
      "04/09 13:46:31 [\u001b[1;31mERROR\u001b[0m] CUID#7 - Download aborted. URI=https://huggingface.co/datasets/allenai/c4/resolve/main/en.noblocklist\n",
      "Exception: [AbstractCommand.cc:351] errorCode=3 URI=https://huggingface.co/datasets/allenai/c4/resolve/main/en.noblocklist\n",
      "  -> [HttpSkipResponseCommand.cc:219] errorCode=3 Resource not found\n",
      "\n",
      "04/09 13:46:31 [\u001b[1;31mERROR\u001b[0m] CUID#8 - Download aborted. URI=https://huggingface.co/datasets/allenai/c4/resolve/main/en.noclean\n",
      "Exception: [AbstractCommand.cc:351] errorCode=3 URI=https://huggingface.co/datasets/allenai/c4/resolve/main/en.noclean\n",
      "  -> [HttpSkipResponseCommand.cc:219] errorCode=3 Resource not found\n",
      "\n",
      "04/09 13:46:31 [\u001b[1;31mERROR\u001b[0m] CUID#9 - Download aborted. URI=https://huggingface.co/datasets/allenai/c4/resolve/main/en\n",
      "Exception: [AbstractCommand.cc:351] errorCode=3 URI=https://huggingface.co/datasets/allenai/c4/resolve/main/en\n",
      "  -> [HttpSkipResponseCommand.cc:219] errorCode=3 Resource not found\n",
      "[DL:0B][#b862de 0B/0B][#49651d 0B/0B][#e599bc 0B/0B][#a312f0 0B/0B]\n",
      "\n",
      "04/09 13:46:32 [\u001b[1;31mERROR\u001b[0m] CUID#15 - Download aborted. URI=https://huggingface.co/datasets/allenai/c4/resolve/main/realnewslike\n",
      "Exception: [AbstractCommand.cc:351] errorCode=3 URI=https://huggingface.co/datasets/allenai/c4/resolve/main/realnewslike\n",
      "  -> [HttpSkipResponseCommand.cc:219] errorCode=3 Resource not found\n",
      "[DL:0B][#20c876 0B/0B][#324976 0B/0B][#4305fc 0B/0B][#5b5eab 0B/0B]\n",
      "[DL:0B][#20c876 0B/0B][#ceff0f 0B/0B][#86f9f6 0B/0B][#616e1a 0B/0B]\n",
      "[DL:0B][#ceff0f 0B/0B][#e1c830 0B/0B][#f15a30 0B/0B]\n",
      "\n",
      "Download Results:\n",
      "gid   |stat|avg speed  |path/URI\n",
      "======+====+===========+=======================================================\n",
      "b862de|ERR |       0B/s|https://huggingface.co/datasets/allenai/c4/resolve/main/en.noblocklist\n",
      "49651d|ERR |       0B/s|https://huggingface.co/datasets/allenai/c4/resolve/main/en.noclean\n",
      "e599bc|ERR |       0B/s|https://huggingface.co/datasets/allenai/c4/resolve/main/en\n",
      "a312f0|ERR |       0B/s|https://huggingface.co/datasets/allenai/c4/resolve/main/multilingual\n",
      "c80edd|ERR |       0B/s|https://huggingface.co/datasets/allenai/c4/resolve/main/realnewslike\n",
      "b83524|OK  |       0B/s|testdl/.gitattributes\n",
      "5ed6d8|OK  |       0B/s|testdl/README.md\n",
      "4aa81d|OK  |       0B/s|testdl/06fcf4d9bf6ae45fac94245952f000c924d2a0b5cc8841c916b3ee949333410d\n",
      "9e5846|OK  |       0B/s|testdl/8a0b64c5efb1db1ebcc0a664c801221049f5812652dc1a727a0e9f8d0df0cd0e\n",
      "09e2b0|OK  |       0B/s|testdl/087fabf9563297a6eab8bc39b68c0c6d15169032001d3a17c9bd964080759f2c\n",
      "9478fe|OK  |       0B/s|testdl/1e5b89200528320e354f60be0868a3ab6dbbe667a6b16b48e4739b988a6360e8\n",
      "bc353c|OK  |       0B/s|testdl/8291badbe84854960c0ddac3d6c226cb519268d1b3fd267bd72cfb4f10800de1\n",
      "abee42|OK  |       0B/s|testdl/c74226ceada7d78e3e7a2ad931d0a99df93f4cc4377ec69d4f1fab4164c3d845\n",
      "f55f84|OK  |       0B/s|testdl/4e52e99dfc4e55c41226978b4dbf48fac2f886b9b0446bc3bd576f32bdd7cfea\n",
      "bdf44a|OK  |       0B/s|testdl/61e10cef5c2cab162fb1d26f97fd9d76b30c9ee989c01ef8597d2a4e35b303da\n",
      "2a2cdb|OK  |       0B/s|testdl/d3fc7fffdf9c2172d233bea3bb7dc485d753319e6196672d0186b8ba04a1d903\n",
      "bd8031|OK  |       0B/s|testdl/ee34ff11164e10a86f76593205cb13986c70ea3d3a8849174a6dfb5b4ec91262\n",
      "66011f|OK  |       0B/s|testdl/7a3ef558efaca3e5d19e9ad02b47dd61f9639dd806130b62d66e9c3341c0edce\n",
      "c85ba9|OK  |       0B/s|testdl/f5a6c18992ab2b59a9c02469d20768bf5757624e03bcaf92957ce736a3a9edb5\n",
      "8e8ad7|OK  |       0B/s|testdl/c174b625c1534c69814f8e4879169b58af96f801dbb433113740af0d78535abd\n",
      "324976|OK  |       0B/s|testdl/f72040887c2a2c17564c2c6a9a4b5ff95fce6a0eed4f0800cdeff8277af651ff\n",
      "4305fc|OK  |       0B/s|testdl/4e8e52a602d4eb4b27104780f4a36617505505fb66a82f36e90631a4e668f5b9\n",
      "5b5eab|OK  |       0B/s|testdl/a3e7a95b16f09e09e45f1c3bed3524415581e21b065d8efcc66cece705dee4d2\n",
      "1098bd|OK  |       0B/s|testdl/79cdb89052e8dcecd1f1319e47f4c4ae1d350ab81777a9ba8077cebdb558e795\n",
      "2b2d92|OK  |       0B/s|testdl/b57c93502949dad9001e89847947f6c65943927eb519e16de4eaf5590b235faa\n",
      "e013b8|OK  |       0B/s|testdl/8da6aac3a794ce326b5a3971fb75a2ee848f008940d4f1bedd724ce7c5874278\n",
      "332e98|OK  |       0B/s|testdl/756d15d8b07414dffd7cff3efde606aa62cf8f73b85d8e1cd17408d6a339414b\n",
      "a2b005|OK  |       0B/s|testdl/05e14c7e21df3d4af7be7a597fa22463868464d6475282376536e12e82367401\n",
      "7d68f9|OK  |       0B/s|testdl/08ff3615ecea3eb5b55703e123475c95afbecfe7107eedf05750147c9ffd12ef\n",
      "a2783b|OK  |       0B/s|testdl/bd865213ffb2b40c2cd3eb16724b68c0f37e29f68215990dc84d91852c7c0d72\n",
      "d77aae|OK  |       0B/s|testdl/e3e30b97e585fd881b3a1b006775854a11a2b967d992e7eea886338d8beefb13\n",
      "616e1a|OK  |       0B/s|testdl/d3e597b3a96b993840e47adb761cce2f2ae1c96aefcbd6c250198dedaecde15a\n",
      "86f9f6|OK  |       0B/s|testdl/fddc9e1a8405c5e05e63ce98b19c7833c0fd46392b4b55532b317e7f81426590\n",
      "20c876|OK  |       0B/s|testdl/283ae93ecc3f8daefa9c47651ded763dc5f339ddc619c8cb5e32dce9cb9cfe4c\n",
      "e02472|OK  |       0B/s|testdl/abd6d2341b6c61cdb89b80a8b9bfd938bb6d8a423a89e6a9f997c22c6479d537\n",
      "c5a2d9|OK  |       0B/s|testdl/ee35a3af1056cdab79b644f6352150aeb6fb19a630cd6bc893a072e35fbfbad2\n",
      "b19b6a|OK  |       0B/s|testdl/1d04d4bc295aee2ab80b24f587f8c483599db7d5a8157acc99a1d8b001f8353e\n",
      "6e1cc1|OK  |       0B/s|testdl/cf1dd244555511245c0e6a5b1dc9c24f747b8377674aa3690677ce08ebb8c26f\n",
      "6934c9|OK  |       0B/s|testdl/c83e5572647eba5ab14fdc4dcba8efb6981740b99b8f634e2c6b1942a051c249\n",
      "41755f|OK  |       0B/s|testdl/b76815aadcf4ad802071428864ce0b406cabd73dfc2be5e20b44885ec6a85419\n",
      "a7148d|OK  |       0B/s|testdl/da00d92418fbdb9799d8f16977b3a33f67cb98a31808544cb68cf3b42ea9adf1\n",
      "d7c4c7|OK  |       0B/s|testdl/265ad43ce00666c83fd441d35ff29ba1ebf7d62442cc3e3c176091b4c725ea9d\n",
      "141925|OK  |       0B/s|testdl/7d62d03c3496ee2e17ab6b9635710efef9e4cefb88ddccdc16ed720a414c38c2\n",
      "675f97|OK  |       0B/s|testdl/670affddf8fcca6933af3f5b30efd1bf490c3e38c3e90f2e8e9a464994d613f1\n",
      "33ba45|OK  |       0B/s|testdl/4733156df48f2dd0f2e859fef28f56d12a84e8012085ca9318073ae647b0fcdc\n",
      "6a7f07|OK  |       0B/s|testdl/4acbd97f9c8fd9a930a6f4284a11cfe37f6cca3b5858ae3c2cde747dae35e0d2\n",
      "c9e632|OK  |       0B/s|testdl/d350e48a36bb1ba3125f72a07ed8024d26eae6d89ecac686ac0bdf3d5d89e1a7\n",
      "ceff0f|OK  |       0B/s|testdl/60aa08d9c5d813d5f2448d910bc23a705cdd0828a9403c18ec223e53623889cb\n",
      "f15a30|OK  |       0B/s|testdl/6bd6bc1269c2dd81db466ae9c41f76b8b8cf71cc7bd6e131452fa1a1318ff459\n",
      "e1c830|OK  |       0B/s|testdl/817a58dc40440b8b1f54d129db08ae9124e0293e5a0e45f034fbffb2140d90c0\n",
      "\n",
      "Status Legend:\n",
      "(OK):download completed.(ERR):error occurred.\n",
      "\n",
      "aria2 will resume download if the transfer is restarted.\n",
      "If there are any errors, then see the log file. See '-l' option in help/man page for details.\n",
      "\n",
      "Stderr: \n"
     ]
    }
   ],
   "source": [
    "aria_command = [\n",
    "    'aria2c',\n",
    "    '-d', \"testdl\",       # Destination directory\n",
    "    '-c',                     # Resume partial downloads\n",
    "    '--console-log-level=warn', # Reduce verbosity\n",
    "    '-j', '4',                 # Number of parallel downloads (adjust based on HPC policy/files)\n",
    "    '-i', 'test_urls.txt',     # Input file with URLs\n",
    "    # Add other aria2c options as needed\n",
    "]\n",
    "\n",
    "try:\n",
    "    result = subprocess.run(aria_command, check=True, capture_output=True, text=True)\n",
    "except subprocess.CalledProcessError as e:\n",
    "    print(f\"Return code: {e.returncode}\")\n",
    "    print(f\"Stdout: {e.stdout}\")\n",
    "    print(f\"Stderr: {e.stderr}\")"
   ]
  },
  {
   "cell_type": "code",
   "execution_count": 30,
   "id": "9a1d841d",
   "metadata": {},
   "outputs": [],
   "source": [
    "from datasets import load_dataset"
   ]
  },
  {
   "cell_type": "code",
   "execution_count": 32,
   "id": "a2a854ad",
   "metadata": {},
   "outputs": [
    {
     "name": "stderr",
     "output_type": "stream",
     "text": [
      "Downloading data: 100%|██████████| 43/43 [00:00<00:00, 39421.87files/s]\n",
      "Generating train split: 16519370 examples [01:34, 174478.92 examples/s]\n"
     ]
    }
   ],
   "source": [
    "ds = load_dataset(\"json\", data_dir=\"testdl\")"
   ]
  },
  {
   "cell_type": "code",
   "execution_count": 33,
   "id": "00de34d5",
   "metadata": {},
   "outputs": [],
   "source": [
    "import duckdb"
   ]
  },
  {
   "cell_type": "code",
   "execution_count": 34,
   "id": "68e08f2b",
   "metadata": {},
   "outputs": [],
   "source": [
    "con = duckdb.connect()"
   ]
  },
  {
   "cell_type": "code",
   "execution_count": 45,
   "id": "ed9aad96",
   "metadata": {},
   "outputs": [
    {
     "data": {
      "text/plain": [
       "[('http://www.stonetalk.org/webpage/2018/07',),\n",
       " ('https://hub.awin.com/tag/family/',),\n",
       " ('http://krugerquarterhorses.com/wwwboard/messages/rx/lexapro-to-buy/',),\n",
       " ('https://www.hsiangneng.com/dc-gear-motors.htm',),\n",
       " ('https://ceswhite.wordpress.com/2014/12/22/award-winner-most-underrated-music-video/',),\n",
       " ('https://www.macworld.com/article/1150757/dvdripping-roundup.html',),\n",
       " ('https://www.shapeoftraining.co.uk/aboutus/1744.asp',),\n",
       " ('http://www.seobook.com/publicize-your-publicity-create-successful-viral-marketing-campaigns',),\n",
       " ('https://www.otherpress.com/books/the-book-of-fathers/',),\n",
       " ('http://realestate.elpasotimes.com/property/tx/houston/77019/-/3333-allen-parkway-703/5c96e52fa78e9254890000ca/',)]"
      ]
     },
     "execution_count": 45,
     "metadata": {},
     "output_type": "execute_result"
    }
   ],
   "source": [
    "con.execute(\"SELECT url FROM READ_JSON('testdl/*', format = 'newline_delimited', compression='gzip') LIMIT 10\").fetchall()"
   ]
  },
  {
   "cell_type": "code",
   "execution_count": null,
   "id": "4c787b95",
   "metadata": {},
   "outputs": [
    {
     "data": {
      "text/plain": [
       "<duckdb.duckdb.DuckDBPyConnection at 0x1069d8af0>"
      ]
     },
     "execution_count": 5,
     "metadata": {},
     "output_type": "execute_result"
    }
   ],
   "source": [
    "import duckdb\n",
    "from duckdb.typing import VARCHAR\n",
    "import tldextract\n",
    "\n",
    "def extract_domain(url: str) -> str:\n",
    "    if url is None:\n",
    "        return None\n",
    "    # Use tldextract to parse the URL\n",
    "    extracted = tldextract.extract(url)\n",
    "\n",
    "    # Return the full domain information as a formatted string\n",
    "    return f\"{extracted.domain}.{extracted.suffix}\"\n",
    "\n",
    "# Create a connection to DuckDB\n",
    "con = duckdb.connect()\n",
    "\n",
    "# Register the function as a UDF\n",
    "con.create_function(\n",
    "    \"extract_domain\",      # Name of the UDF in SQL queries\n",
    "    extract_domain,        # The Python function to use\n",
    "    [VARCHAR],             # Input parameter type (URL as string)\n",
    "    VARCHAR,               # Return type (domain as string)\n",
    "    null_handling=\"special\"\n",
    ")"
   ]
  },
  {
   "cell_type": "code",
   "execution_count": 6,
   "id": "230800db",
   "metadata": {},
   "outputs": [
    {
     "data": {
      "text/plain": [
       "[(14982685,)]"
      ]
     },
     "execution_count": 6,
     "metadata": {},
     "output_type": "execute_result"
    }
   ],
   "source": [
    "con.execute(\"COPY (SELECT url, extract_domain(url) FROM READ_JSON('testdl/*', format = 'newline_delimited', compression='gzip')) TO 'test_out.parquet' \").fetchall()"
   ]
  },
  {
   "cell_type": "code",
   "execution_count": null,
   "id": "7768c17e",
   "metadata": {},
   "outputs": [],
   "source": []
  },
  {
   "cell_type": "code",
   "execution_count": null,
   "id": "2af97dc8",
   "metadata": {},
   "outputs": [],
   "source": []
  },
  {
   "cell_type": "code",
   "execution_count": null,
   "id": "9faa7b3e",
   "metadata": {},
   "outputs": [],
   "source": []
  }
 ],
 "metadata": {
  "kernelspec": {
   "display_name": ".venv",
   "language": "python",
   "name": "python3"
  },
  "language_info": {
   "codemirror_mode": {
    "name": "ipython",
    "version": 3
   },
   "file_extension": ".py",
   "mimetype": "text/x-python",
   "name": "python",
   "nbconvert_exporter": "python",
   "pygments_lexer": "ipython3",
   "version": "3.12.4"
  }
 },
 "nbformat": 4,
 "nbformat_minor": 5
}
