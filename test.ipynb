{
 "cells": [
  {
   "cell_type": "code",
   "execution_count": 1,
   "metadata": {},
   "outputs": [
    {
     "name": "stderr",
     "output_type": "stream",
     "text": [
      "/Users/nrh146/Documents/cc-genealogy/.venv/lib/python3.12/site-packages/tqdm/auto.py:21: TqdmWarning: IProgress not found. Please update jupyter and ipywidgets. See https://ipywidgets.readthedocs.io/en/stable/user_install.html\n",
      "  from .autonotebook import tqdm as notebook_tqdm\n"
     ]
    }
   ],
   "source": [
    "import duckdb\n",
    "from src.hf_files import get_file_table"
   ]
  },
  {
   "cell_type": "code",
   "execution_count": 2,
   "metadata": {},
   "outputs": [],
   "source": [
    "con = duckdb.connect(\"data/hf_files.db\", read_only=False)"
   ]
  },
  {
   "cell_type": "code",
   "execution_count": 5,
   "metadata": {},
   "outputs": [
    {
     "data": {
      "application/vnd.microsoft.datawrangler.viewer.v0+json": {
       "columns": [
        {
         "name": "index",
         "rawType": "int64",
         "type": "integer"
        },
        {
         "name": "filepath",
         "rawType": "object",
         "type": "string"
        }
       ],
       "conversionMethod": "pd.DataFrame",
       "ref": "bb168df1-3f4f-4f61-8743-c377d174cff8",
       "rows": [
        [
         "0",
         "hf://datasets/allenai/c4/multilingual/c4-af.tfrecord-00000-of-00064.json.gz"
        ],
        [
         "1",
         "hf://datasets/allenai/c4/multilingual/c4-af.tfrecord-00001-of-00064.json.gz"
        ],
        [
         "2",
         "hf://datasets/allenai/c4/multilingual/c4-af.tfrecord-00002-of-00064.json.gz"
        ],
        [
         "3",
         "hf://datasets/allenai/c4/multilingual/c4-af.tfrecord-00003-of-00064.json.gz"
        ],
        [
         "4",
         "hf://datasets/allenai/c4/multilingual/c4-af.tfrecord-00004-of-00064.json.gz"
        ],
        [
         "5",
         "hf://datasets/allenai/c4/multilingual/c4-af.tfrecord-00005-of-00064.json.gz"
        ],
        [
         "6",
         "hf://datasets/allenai/c4/multilingual/c4-af.tfrecord-00006-of-00064.json.gz"
        ],
        [
         "7",
         "hf://datasets/allenai/c4/multilingual/c4-af.tfrecord-00007-of-00064.json.gz"
        ],
        [
         "8",
         "hf://datasets/allenai/c4/multilingual/c4-af.tfrecord-00008-of-00064.json.gz"
        ],
        [
         "9",
         "hf://datasets/allenai/c4/multilingual/c4-af.tfrecord-00009-of-00064.json.gz"
        ],
        [
         "10",
         "hf://datasets/allenai/c4/multilingual/c4-af.tfrecord-00010-of-00064.json.gz"
        ],
        [
         "11",
         "hf://datasets/allenai/c4/multilingual/c4-af.tfrecord-00011-of-00064.json.gz"
        ],
        [
         "12",
         "hf://datasets/allenai/c4/multilingual/c4-af.tfrecord-00012-of-00064.json.gz"
        ],
        [
         "13",
         "hf://datasets/allenai/c4/multilingual/c4-af.tfrecord-00013-of-00064.json.gz"
        ],
        [
         "14",
         "hf://datasets/allenai/c4/multilingual/c4-af.tfrecord-00014-of-00064.json.gz"
        ],
        [
         "15",
         "hf://datasets/allenai/c4/multilingual/c4-af.tfrecord-00015-of-00064.json.gz"
        ],
        [
         "16",
         "hf://datasets/allenai/c4/multilingual/c4-af.tfrecord-00016-of-00064.json.gz"
        ],
        [
         "17",
         "hf://datasets/allenai/c4/multilingual/c4-af.tfrecord-00017-of-00064.json.gz"
        ],
        [
         "18",
         "hf://datasets/allenai/c4/multilingual/c4-af.tfrecord-00018-of-00064.json.gz"
        ],
        [
         "19",
         "hf://datasets/allenai/c4/multilingual/c4-af.tfrecord-00019-of-00064.json.gz"
        ],
        [
         "20",
         "hf://datasets/allenai/c4/multilingual/c4-af.tfrecord-00020-of-00064.json.gz"
        ],
        [
         "21",
         "hf://datasets/allenai/c4/multilingual/c4-af.tfrecord-00021-of-00064.json.gz"
        ],
        [
         "22",
         "hf://datasets/allenai/c4/multilingual/c4-af.tfrecord-00022-of-00064.json.gz"
        ],
        [
         "23",
         "hf://datasets/allenai/c4/multilingual/c4-af.tfrecord-00023-of-00064.json.gz"
        ],
        [
         "24",
         "hf://datasets/allenai/c4/multilingual/c4-af.tfrecord-00024-of-00064.json.gz"
        ],
        [
         "25",
         "hf://datasets/allenai/c4/multilingual/c4-af.tfrecord-00025-of-00064.json.gz"
        ],
        [
         "26",
         "hf://datasets/allenai/c4/multilingual/c4-af.tfrecord-00026-of-00064.json.gz"
        ],
        [
         "27",
         "hf://datasets/allenai/c4/multilingual/c4-af.tfrecord-00027-of-00064.json.gz"
        ],
        [
         "28",
         "hf://datasets/allenai/c4/multilingual/c4-af.tfrecord-00028-of-00064.json.gz"
        ],
        [
         "29",
         "hf://datasets/allenai/c4/multilingual/c4-af.tfrecord-00029-of-00064.json.gz"
        ],
        [
         "30",
         "hf://datasets/allenai/c4/multilingual/c4-af.tfrecord-00030-of-00064.json.gz"
        ],
        [
         "31",
         "hf://datasets/allenai/c4/multilingual/c4-af.tfrecord-00031-of-00064.json.gz"
        ],
        [
         "32",
         "hf://datasets/allenai/c4/multilingual/c4-af.tfrecord-00032-of-00064.json.gz"
        ],
        [
         "33",
         "hf://datasets/allenai/c4/multilingual/c4-af.tfrecord-00033-of-00064.json.gz"
        ],
        [
         "34",
         "hf://datasets/allenai/c4/multilingual/c4-af.tfrecord-00034-of-00064.json.gz"
        ],
        [
         "35",
         "hf://datasets/allenai/c4/multilingual/c4-af.tfrecord-00035-of-00064.json.gz"
        ],
        [
         "36",
         "hf://datasets/allenai/c4/multilingual/c4-af.tfrecord-00036-of-00064.json.gz"
        ],
        [
         "37",
         "hf://datasets/allenai/c4/multilingual/c4-af.tfrecord-00037-of-00064.json.gz"
        ],
        [
         "38",
         "hf://datasets/allenai/c4/multilingual/c4-af.tfrecord-00038-of-00064.json.gz"
        ],
        [
         "39",
         "hf://datasets/allenai/c4/multilingual/c4-af.tfrecord-00039-of-00064.json.gz"
        ],
        [
         "40",
         "hf://datasets/allenai/c4/multilingual/c4-af.tfrecord-00040-of-00064.json.gz"
        ],
        [
         "41",
         "hf://datasets/allenai/c4/multilingual/c4-af.tfrecord-00041-of-00064.json.gz"
        ],
        [
         "42",
         "hf://datasets/allenai/c4/multilingual/c4-af.tfrecord-00042-of-00064.json.gz"
        ],
        [
         "43",
         "hf://datasets/allenai/c4/multilingual/c4-af.tfrecord-00043-of-00064.json.gz"
        ],
        [
         "44",
         "hf://datasets/allenai/c4/multilingual/c4-af.tfrecord-00044-of-00064.json.gz"
        ],
        [
         "45",
         "hf://datasets/allenai/c4/multilingual/c4-af.tfrecord-00045-of-00064.json.gz"
        ],
        [
         "46",
         "hf://datasets/allenai/c4/multilingual/c4-af.tfrecord-00046-of-00064.json.gz"
        ],
        [
         "47",
         "hf://datasets/allenai/c4/multilingual/c4-af.tfrecord-00047-of-00064.json.gz"
        ],
        [
         "48",
         "hf://datasets/allenai/c4/multilingual/c4-af.tfrecord-00048-of-00064.json.gz"
        ],
        [
         "49",
         "hf://datasets/allenai/c4/multilingual/c4-af.tfrecord-00049-of-00064.json.gz"
        ]
       ],
       "shape": {
        "columns": 1,
        "rows": 59024
       }
      },
      "text/html": [
       "<div>\n",
       "<style scoped>\n",
       "    .dataframe tbody tr th:only-of-type {\n",
       "        vertical-align: middle;\n",
       "    }\n",
       "\n",
       "    .dataframe tbody tr th {\n",
       "        vertical-align: top;\n",
       "    }\n",
       "\n",
       "    .dataframe thead th {\n",
       "        text-align: right;\n",
       "    }\n",
       "</style>\n",
       "<table border=\"1\" class=\"dataframe\">\n",
       "  <thead>\n",
       "    <tr style=\"text-align: right;\">\n",
       "      <th></th>\n",
       "      <th>filepath</th>\n",
       "    </tr>\n",
       "  </thead>\n",
       "  <tbody>\n",
       "    <tr>\n",
       "      <th>0</th>\n",
       "      <td>hf://datasets/allenai/c4/multilingual/c4-af.tf...</td>\n",
       "    </tr>\n",
       "    <tr>\n",
       "      <th>1</th>\n",
       "      <td>hf://datasets/allenai/c4/multilingual/c4-af.tf...</td>\n",
       "    </tr>\n",
       "    <tr>\n",
       "      <th>2</th>\n",
       "      <td>hf://datasets/allenai/c4/multilingual/c4-af.tf...</td>\n",
       "    </tr>\n",
       "    <tr>\n",
       "      <th>3</th>\n",
       "      <td>hf://datasets/allenai/c4/multilingual/c4-af.tf...</td>\n",
       "    </tr>\n",
       "    <tr>\n",
       "      <th>4</th>\n",
       "      <td>hf://datasets/allenai/c4/multilingual/c4-af.tf...</td>\n",
       "    </tr>\n",
       "    <tr>\n",
       "      <th>...</th>\n",
       "      <td>...</td>\n",
       "    </tr>\n",
       "    <tr>\n",
       "      <th>59019</th>\n",
       "      <td>hf://datasets/allenai/c4/multilingual/c4-zu.tf...</td>\n",
       "    </tr>\n",
       "    <tr>\n",
       "      <th>59020</th>\n",
       "      <td>hf://datasets/allenai/c4/multilingual/c4-zu.tf...</td>\n",
       "    </tr>\n",
       "    <tr>\n",
       "      <th>59021</th>\n",
       "      <td>hf://datasets/allenai/c4/multilingual/c4-zu.tf...</td>\n",
       "    </tr>\n",
       "    <tr>\n",
       "      <th>59022</th>\n",
       "      <td>hf://datasets/allenai/c4/multilingual/c4-zu.tf...</td>\n",
       "    </tr>\n",
       "    <tr>\n",
       "      <th>59023</th>\n",
       "      <td>hf://datasets/allenai/c4/multilingual/c4-zu.tf...</td>\n",
       "    </tr>\n",
       "  </tbody>\n",
       "</table>\n",
       "<p>59024 rows × 1 columns</p>\n",
       "</div>"
      ],
      "text/plain": [
       "                                                filepath\n",
       "0      hf://datasets/allenai/c4/multilingual/c4-af.tf...\n",
       "1      hf://datasets/allenai/c4/multilingual/c4-af.tf...\n",
       "2      hf://datasets/allenai/c4/multilingual/c4-af.tf...\n",
       "3      hf://datasets/allenai/c4/multilingual/c4-af.tf...\n",
       "4      hf://datasets/allenai/c4/multilingual/c4-af.tf...\n",
       "...                                                  ...\n",
       "59019  hf://datasets/allenai/c4/multilingual/c4-zu.tf...\n",
       "59020  hf://datasets/allenai/c4/multilingual/c4-zu.tf...\n",
       "59021  hf://datasets/allenai/c4/multilingual/c4-zu.tf...\n",
       "59022  hf://datasets/allenai/c4/multilingual/c4-zu.tf...\n",
       "59023  hf://datasets/allenai/c4/multilingual/c4-zu.tf...\n",
       "\n",
       "[59024 rows x 1 columns]"
      ]
     },
     "execution_count": 5,
     "metadata": {},
     "output_type": "execute_result"
    }
   ],
   "source": [
    "get_file_table(\"allenai/c4\", \"multilingual_c4\", con)"
   ]
  },
  {
   "cell_type": "code",
   "execution_count": 7,
   "metadata": {},
   "outputs": [
    {
     "data": {
      "application/vnd.microsoft.datawrangler.viewer.v0+json": {
       "columns": [
        {
         "name": "index",
         "rawType": "int64",
         "type": "integer"
        },
        {
         "name": "name",
         "rawType": "object",
         "type": "string"
        }
       ],
       "conversionMethod": "pd.DataFrame",
       "ref": "9aa0130d-613e-47ec-92c2-caa962384176",
       "rows": [
        [
         "0",
         "allenai_c4_multilingual_c4"
        ]
       ],
       "shape": {
        "columns": 1,
        "rows": 1
       }
      },
      "text/html": [
       "<div>\n",
       "<style scoped>\n",
       "    .dataframe tbody tr th:only-of-type {\n",
       "        vertical-align: middle;\n",
       "    }\n",
       "\n",
       "    .dataframe tbody tr th {\n",
       "        vertical-align: top;\n",
       "    }\n",
       "\n",
       "    .dataframe thead th {\n",
       "        text-align: right;\n",
       "    }\n",
       "</style>\n",
       "<table border=\"1\" class=\"dataframe\">\n",
       "  <thead>\n",
       "    <tr style=\"text-align: right;\">\n",
       "      <th></th>\n",
       "      <th>name</th>\n",
       "    </tr>\n",
       "  </thead>\n",
       "  <tbody>\n",
       "    <tr>\n",
       "      <th>0</th>\n",
       "      <td>allenai_c4_multilingual_c4</td>\n",
       "    </tr>\n",
       "  </tbody>\n",
       "</table>\n",
       "</div>"
      ],
      "text/plain": [
       "                         name\n",
       "0  allenai_c4_multilingual_c4"
      ]
     },
     "execution_count": 7,
     "metadata": {},
     "output_type": "execute_result"
    }
   ],
   "source": [
    "con.execute(\"SHOW TABLES\").fetchdf()"
   ]
  },
  {
   "cell_type": "code",
   "execution_count": null,
   "metadata": {},
   "outputs": [],
   "source": []
  }
 ],
 "metadata": {
  "kernelspec": {
   "display_name": ".venv",
   "language": "python",
   "name": "python3"
  },
  "language_info": {
   "codemirror_mode": {
    "name": "ipython",
    "version": 3
   },
   "file_extension": ".py",
   "mimetype": "text/x-python",
   "name": "python",
   "nbconvert_exporter": "python",
   "pygments_lexer": "ipython3",
   "version": "3.12.4"
  }
 },
 "nbformat": 4,
 "nbformat_minor": 2
}
